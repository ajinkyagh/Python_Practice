{
  "nbformat": 4,
  "nbformat_minor": 0,
  "metadata": {
    "colab": {
      "provenance": [],
      "mount_file_id": "1_o7d7iBCBdqEKHhcw0HxHK3yLetU8vd7",
      "authorship_tag": "ABX9TyMdgd8+37iI1iqqUhnZ/1FI",
      "include_colab_link": true
    },
    "kernelspec": {
      "name": "python3",
      "display_name": "Python 3"
    }
  },
  "cells": [
    {
      "cell_type": "markdown",
      "metadata": {
        "id": "view-in-github",
        "colab_type": "text"
      },
      "source": [
        "<a href=\"https://colab.research.google.com/github/ajinkyagh/Python_Practice/blob/main/Brushup_Python_Practice.ipynb\" target=\"_parent\"><img src=\"https://colab.research.google.com/assets/colab-badge.svg\" alt=\"Open In Colab\"/></a>"
      ]
    },
    {
      "cell_type": "markdown",
      "source": [
        "Day 1: Introduction to Python\n",
        "Problem:\n",
        "Write a Python program that:\n",
        "\n",
        "Takes two numbers as input from the user.\n",
        "\n",
        "Prints the sum, difference, product, and quotient of those two numbers.\n",
        "\n",
        "Hints:\n",
        "\n",
        "Use input() to get input from the user.\n",
        "\n",
        "Convert the input to integers using int().\n",
        "\n",
        "Perform the four operations (sum, difference, product, quotient) and print the results.\n",
        "\n"
      ],
      "metadata": {
        "id": "jwLUfBqPjnMH"
      }
    },
    {
      "cell_type": "code",
      "source": [
        "num_1 = int(input(\"Enter number 1: \"))\n",
        "num_2 =int(input(\"Enter number 2: \"))"
      ],
      "metadata": {
        "colab": {
          "base_uri": "https://localhost:8080/"
        },
        "id": "olnmby77jq6L",
        "outputId": "12251d87-4c32-4452-a88b-21dfe25ef80e"
      },
      "execution_count": null,
      "outputs": [
        {
          "name": "stdout",
          "output_type": "stream",
          "text": [
            "Enter number 1: 10\n",
            "Enter number 2: 20\n"
          ]
        }
      ]
    },
    {
      "cell_type": "code",
      "source": [
        "print(f\"Sum of {num_1} and {num_2} is {num_1+num_2}\")"
      ],
      "metadata": {
        "colab": {
          "base_uri": "https://localhost:8080/"
        },
        "id": "W8OWbRdGkbfI",
        "outputId": "3e7447c4-e851-4dee-c7e3-2f5bdfb0da0e"
      },
      "execution_count": null,
      "outputs": [
        {
          "output_type": "stream",
          "name": "stdout",
          "text": [
            "Sum of 10 and 20 is 30\n"
          ]
        }
      ]
    },
    {
      "cell_type": "code",
      "source": [
        "print(f\"Difference of {num_1} and {num_2} is {num_1-num_2}\")"
      ],
      "metadata": {
        "colab": {
          "base_uri": "https://localhost:8080/"
        },
        "id": "-7lLAEkklN5C",
        "outputId": "7cdb38f0-9ccb-474a-df97-7868bb0137ac"
      },
      "execution_count": null,
      "outputs": [
        {
          "output_type": "stream",
          "name": "stdout",
          "text": [
            "Difference of 10 and 20 is -10\n"
          ]
        }
      ]
    },
    {
      "cell_type": "code",
      "source": [
        "print(f\"Product of {num_1} and {num_2} is {num_1*num_2}\")"
      ],
      "metadata": {
        "colab": {
          "base_uri": "https://localhost:8080/"
        },
        "id": "UxAcIED3ls3H",
        "outputId": "2d95e22c-d5f3-444e-fbcd-250f6fbc6e4d"
      },
      "execution_count": null,
      "outputs": [
        {
          "output_type": "stream",
          "name": "stdout",
          "text": [
            "Product of 10 and 20 is 200\n"
          ]
        }
      ]
    },
    {
      "cell_type": "code",
      "source": [
        "if num_2 != 0:\n",
        "  print(f\"Quotient of {num_1} and {num_2} is {num_1/num_2}\")\n",
        "else:\n",
        "  print (\"Cannot divide by zero\")"
      ],
      "metadata": {
        "colab": {
          "base_uri": "https://localhost:8080/"
        },
        "id": "Pc6b1DQBmNtw",
        "outputId": "d58484aa-2cef-4736-a5f9-9a8024b352e9"
      },
      "execution_count": null,
      "outputs": [
        {
          "output_type": "stream",
          "name": "stdout",
          "text": [
            "Quotient of 10 and 20 is 0.5\n"
          ]
        }
      ]
    },
    {
      "cell_type": "markdown",
      "source": [
        "Day 2: Variables and Data Types\n",
        "Problem:\n",
        "Write a Python program that:\n",
        "\n",
        "Stores your name, age, and city in variables.\n",
        "\n",
        "Then, prints a message that says:\n",
        "\"Hello, my name is [name], I am [age] years old, and I live in [city].\"\n",
        "\n",
        "Hints:\n",
        "\n",
        "Use variables to store your name, age, and city.\n",
        "\n",
        "Use an f-string or .format() to print the message with the values of the variables."
      ],
      "metadata": {
        "id": "xC2eU49VrI1u"
      }
    },
    {
      "cell_type": "code",
      "source": [
        "name = \"Ajinkya\"\n",
        "age = 26\n",
        "city = \"Worcester\""
      ],
      "metadata": {
        "id": "6y6ZO_z7sZc2"
      },
      "execution_count": null,
      "outputs": []
    },
    {
      "cell_type": "code",
      "source": [
        "print(\"Hello, my name is {} age is {} and city is {}\".format(name, age, city) )"
      ],
      "metadata": {
        "colab": {
          "base_uri": "https://localhost:8080/"
        },
        "id": "SUmJ6_A0sgWc",
        "outputId": "ced9bfeb-e76b-402e-865b-69ffe31fbb4a"
      },
      "execution_count": null,
      "outputs": [
        {
          "output_type": "stream",
          "name": "stdout",
          "text": [
            "Hello, my name is Ajinkya age is 26 and city is Worcester\n"
          ]
        }
      ]
    },
    {
      "cell_type": "markdown",
      "source": [
        "Day 3: Control Flow - if, elif, else\n",
        "Problem:\n",
        "Write a Python program that:\n",
        "\n",
        "Takes an integer input from the user.\n",
        "\n",
        "Checks whether the number is positive, negative, or zero.\n",
        "\n",
        "Prints the appropriate message:\n",
        "\n",
        "\"The number is positive\"\n",
        "\n",
        "\"The number is negative\"\n",
        "\n",
        "\"The number is zero\"\n",
        "\n",
        "Hints:\n",
        "\n",
        "Use if, elif, and else to check the conditions.\n",
        "\n",
        "For the if condition, check if the number is greater than zero.\n",
        "\n",
        "For the elif, check if the number is less than zero.\n",
        "\n",
        "Use else for the case when the number is zero."
      ],
      "metadata": {
        "id": "QM6ANHwquec9"
      }
    },
    {
      "cell_type": "code",
      "source": [
        "number = int(input(\"Enter a number: \"))\n",
        "\n",
        "if number > 0 :\n",
        "  print(\"The number is positive\")\n",
        "elif number < 0:\n",
        "  print(\"The number is negative\")\n",
        "else:\n",
        "  print (\"The number is zero\")"
      ],
      "metadata": {
        "colab": {
          "base_uri": "https://localhost:8080/"
        },
        "id": "iYKKXnKguilh",
        "outputId": "cc0987f3-694d-41a0-a233-a80c5e2ef691"
      },
      "execution_count": null,
      "outputs": [
        {
          "output_type": "stream",
          "name": "stdout",
          "text": [
            "Enter a number: 10\n",
            "The number is positive\n"
          ]
        }
      ]
    },
    {
      "cell_type": "markdown",
      "source": [
        "Day 4: Loops - for and while\n",
        "Problem:\n",
        "Write a Python program that prints all even numbers from 1 to 20 using a for loop.\n",
        "\n",
        "Hints:\n",
        "\n",
        "Use range() to loop over numbers from 1 to 20.\n",
        "\n",
        "Use the modulus operator (%) to check if a number is even. If number % 2 == 0, then the number is even."
      ],
      "metadata": {
        "id": "qc5Cm9Sa5lkp"
      }
    },
    {
      "cell_type": "code",
      "source": [
        "for number in range (1,21):\n",
        "  if number % 2 == 0:\n",
        "    print(number)"
      ],
      "metadata": {
        "colab": {
          "base_uri": "https://localhost:8080/"
        },
        "id": "Pdepfl8r6H0x",
        "outputId": "bcd870f0-a3ac-4006-d013-922dc8ea17be"
      },
      "execution_count": null,
      "outputs": [
        {
          "output_type": "stream",
          "name": "stdout",
          "text": [
            "2\n",
            "4\n",
            "6\n",
            "8\n",
            "10\n",
            "12\n",
            "14\n",
            "16\n",
            "18\n",
            "20\n"
          ]
        }
      ]
    },
    {
      "cell_type": "markdown",
      "source": [
        "Day 5: List Operations\n",
        "Problem:\n",
        "Write a Python program that:\n",
        "\n",
        "Takes a list of numbers as input from the user (you can hardcode the list if you prefer).\n",
        "\n",
        "Prints the sum of all the numbers in the list.\n",
        "\n",
        "Prints the average of the numbers in the list.\n",
        "\n",
        "Hints:\n",
        "\n",
        "You can use the sum() function to get the sum of the list.\n",
        "\n",
        "To find the average, divide the sum of the list by the length of the list, which can be found using len()."
      ],
      "metadata": {
        "id": "uM5SFGuH7wCs"
      }
    },
    {
      "cell_type": "code",
      "source": [
        "numbers = [1,2,3,4,5,6,7,8]\n",
        "\n",
        "print(f\"Sum of number is {sum(numbers)}\")\n",
        "print(f\"Average of numbers is {sum(numbers)/len(numbers)}\")"
      ],
      "metadata": {
        "colab": {
          "base_uri": "https://localhost:8080/"
        },
        "id": "YWlEdczs7zzz",
        "outputId": "5d4238ef-4d63-43e7-bd48-0b2fa57f3794"
      },
      "execution_count": null,
      "outputs": [
        {
          "output_type": "stream",
          "name": "stdout",
          "text": [
            "Sum of number is 36\n",
            "Average of numbers is 4.5\n"
          ]
        }
      ]
    },
    {
      "cell_type": "markdown",
      "source": [
        "Day 6: Functions - Creating Functions\n",
        "Problem:\n",
        "Write a Python function that:\n",
        "\n",
        "Takes two numbers as parameters.\n",
        "\n",
        "Returns their multiplication result.\n",
        "\n",
        "Then, call the function with two numbers and print the result.\n",
        "\n",
        "Hints:\n",
        "\n",
        "Define a function using def.\n",
        "\n",
        "The function should accept two parameters and return their product.\n",
        "\n",
        "Use the return keyword to return the result."
      ],
      "metadata": {
        "id": "oJ4ekL96DrV6"
      }
    },
    {
      "cell_type": "code",
      "source": [
        "def multiplication (number_1, number_2):\n",
        "  return number_1 * number_2\n",
        "\n",
        "result = multiplication(2,3)\n",
        "\n",
        "print(f\"Multiplication is : {result}\")"
      ],
      "metadata": {
        "colab": {
          "base_uri": "https://localhost:8080/"
        },
        "id": "9d5WqT8LA93C",
        "outputId": "415fef7a-da16-4f71-8a2e-2af88111509f"
      },
      "execution_count": null,
      "outputs": [
        {
          "output_type": "stream",
          "name": "stdout",
          "text": [
            "Multiplication is : 6\n"
          ]
        }
      ]
    },
    {
      "cell_type": "markdown",
      "source": [
        "Day 7: List Comprehensions\n",
        "Problem:\n",
        "Write a Python program that:\n",
        "\n",
        "Takes a list of numbers.\n",
        "\n",
        "Returns a new list that contains the square of each number in the original list using list comprehension.\n",
        "\n",
        "Hints:\n",
        "\n",
        "Use list comprehension to create a new list.\n",
        "\n",
        "For each number in the original list, square it using number ** 2."
      ],
      "metadata": {
        "id": "sMg3MtVPnnWB"
      }
    },
    {
      "cell_type": "code",
      "source": [
        "number = [x**2 for x in range(1,11)]\n",
        "print(number)"
      ],
      "metadata": {
        "colab": {
          "base_uri": "https://localhost:8080/"
        },
        "id": "8sO-srwQmW7U",
        "outputId": "ae9a89c6-8fa1-40ad-eb8b-a3375ee1447e"
      },
      "execution_count": null,
      "outputs": [
        {
          "output_type": "stream",
          "name": "stdout",
          "text": [
            "[1, 4, 9, 16, 25, 36, 49, 64, 81, 100]\n"
          ]
        }
      ]
    },
    {
      "cell_type": "markdown",
      "source": [
        "Day 8: Tuples and Sets\n",
        "Problem:\n",
        "Write a Python program that:\n",
        "\n",
        "Takes a list of items (you can hardcode it for now).\n",
        "\n",
        "Converts the list into a tuple.\n",
        "\n",
        "Removes duplicate values from the list by converting it into a set.\n",
        "\n",
        "Prints the tuple and the set.\n",
        "\n",
        "Hints:\n",
        "\n",
        "Use tuple() to convert the list into a tuple.\n",
        "\n",
        "Use set() to remove duplicates, as sets do not allow duplicate values.\n",
        "\n",
        "Print both the tuple and the set."
      ],
      "metadata": {
        "id": "5BEMBeLKuE7f"
      }
    },
    {
      "cell_type": "code",
      "source": [
        "items = [1, 1 ,3 ,2 , 2, 4, 5]\n",
        "tuple_list = tuple(items)\n",
        "set_list = set(items)\n",
        "\n",
        "print (tuple_list)\n",
        "print (set_list)"
      ],
      "metadata": {
        "colab": {
          "base_uri": "https://localhost:8080/"
        },
        "id": "y_MwANogo6bx",
        "outputId": "8e037274-1d87-4f34-d738-dcee0600d522"
      },
      "execution_count": null,
      "outputs": [
        {
          "output_type": "stream",
          "name": "stdout",
          "text": [
            "(1, 1, 3, 2, 2, 4, 5)\n",
            "{1, 2, 3, 4, 5}\n"
          ]
        }
      ]
    },
    {
      "cell_type": "markdown",
      "source": [
        "Day 9: Dictionary Operations\n",
        "Problem:\n",
        "Write a Python program that:\n",
        "\n",
        "Creates a dictionary with the following key-value pairs:\n",
        "\n",
        "\"name\": \"Alice\"\n",
        "\n",
        "\"age\": 30\n",
        "\n",
        "\"city\": \"New York\"\n",
        "\n",
        "Adds a new key-value pair: \"job\": \"Engineer\".\n",
        "\n",
        "Removes the \"age\" key-value pair.\n",
        "\n",
        "Prints the final dictionary.\n",
        "\n",
        "Hints:\n",
        "\n",
        "Use {} to create a dictionary.\n",
        "\n",
        "To add a new key-value pair, just assign a value to a new key.\n",
        "\n",
        "To remove an item, use the del keyword or pop()."
      ],
      "metadata": {
        "id": "lqoHJ6MVzOkR"
      }
    },
    {
      "cell_type": "code",
      "source": [
        "dict = {\"name\": \"Alice\", \"age\": 30, \"city\": \"New York\"}\n",
        "dict[\"job\"] = \"Engineer\"\n",
        "dict.pop(\"age\")\n",
        "\n",
        "print(dict)"
      ],
      "metadata": {
        "colab": {
          "base_uri": "https://localhost:8080/"
        },
        "id": "yjZBXPRuvTeA",
        "outputId": "d7d75d72-49b0-44d2-a85f-36bb84d84fea"
      },
      "execution_count": null,
      "outputs": [
        {
          "output_type": "stream",
          "name": "stdout",
          "text": [
            "{'name': 'Alice', 'city': 'New York', 'job': 'Engineer'}\n"
          ]
        }
      ]
    },
    {
      "cell_type": "markdown",
      "source": [
        "Day 10: File Handling - Reading a File\n",
        "Problem:\n",
        "Write a Python program that:\n",
        "\n",
        "Creates a text file called sample.txt.\n",
        "\n",
        "Writes the following content to the file:\n",
        "\n",
        "kotlin\n",
        "Copy\n",
        "Hello, this is a sample text file.\n",
        "We are learning Python file handling.\n",
        "Reads the content from the file and prints it.\n",
        "\n",
        "Hints:\n",
        "\n",
        "Use the open() function to create and open the file.\n",
        "\n",
        "Use 'w' mode to write to the file and 'r' mode to read from it.\n",
        "\n",
        "Close the file after reading."
      ],
      "metadata": {
        "id": "VuJdJQ2HKD0k"
      }
    },
    {
      "cell_type": "code",
      "source": [
        "file_name= \"sample.txt\"\n",
        "with open(file_name, \"w\") as file:\n",
        "  file.write(\"Hello, this is a sample text file. We are learning Python file handling.\")\n",
        "\n",
        "with open(file_name, \"r\") as file:\n",
        "  content = file.read()\n",
        "  print(content)"
      ],
      "metadata": {
        "colab": {
          "base_uri": "https://localhost:8080/"
        },
        "id": "sh-kB4oPKJtL",
        "outputId": "0256a9c6-0d2a-49a4-b6c8-1dc270c06ac0"
      },
      "execution_count": null,
      "outputs": [
        {
          "output_type": "stream",
          "name": "stdout",
          "text": [
            "Hello, this is a sample text file. We are learning Python file handling.\n"
          ]
        }
      ]
    },
    {
      "cell_type": "markdown",
      "source": [
        "Day 11: File Handling - Writing to a File\n",
        "Problem:\n",
        "Write a Python program that:\n",
        "\n",
        "Creates a text file called students.txt.\n",
        "\n",
        "Writes the following lines to the file (each on a new line):\n",
        "\n",
        "Copy\n",
        "Alice, 25\n",
        "Bob, 30\n",
        "Charlie, 22\n",
        "Reads the content from the file and prints it line by line.\n",
        "\n",
        "Hints:\n",
        "\n",
        "Use 'w' mode to write to the file and 'r' mode to read from it.\n",
        "\n",
        "To write multiple lines, you can either use write() multiple times or writelines() to write a list of strings.\n",
        "\n",
        "When reading, use readlines() to get all lines as a list, and then loop through them to print each line.\n",
        "\n"
      ],
      "metadata": {
        "id": "qsi3zisaW-Wi"
      }
    },
    {
      "cell_type": "code",
      "source": [
        "file_name = \"students.txt\"\n",
        "with open(file_name, \"w\") as file:\n",
        "  file.write(\"Alice, 25\\n\")\n",
        "  file.write(\"Bob, 30\\n\")\n",
        "  file.write(\"Charlie, 22\\n\")\n",
        "\n",
        "with open(file_name, \"r\") as file:\n",
        "  lines = file.readlines()\n",
        "  for line in lines:\n",
        "    print(line)\n"
      ],
      "metadata": {
        "colab": {
          "base_uri": "https://localhost:8080/"
        },
        "id": "Og5wpumuXCcT",
        "outputId": "fce63b1a-e59b-4be7-aaa7-e61e950af45c"
      },
      "execution_count": null,
      "outputs": [
        {
          "output_type": "stream",
          "name": "stdout",
          "text": [
            "Alice, 25\n",
            "\n",
            "Bob, 30\n",
            "\n",
            "Charlie, 22\n",
            "\n"
          ]
        }
      ]
    },
    {
      "cell_type": "markdown",
      "source": [
        "Day 12: File Handling - CSV Files\n",
        "Problem:\n",
        "Write a Python program that:\n",
        "\n",
        "Creates a CSV file called employees.csv.\n",
        "\n",
        "Writes the following data to the file:\n",
        "\n",
        "pgsql\n",
        "Copy\n",
        "Name, Age, Department\n",
        "Alice, 30, HR\n",
        "Bob, 25, IT\n",
        "Charlie, 28, Finance\n",
        "Reads the content from the CSV file and prints each row.\n",
        "\n",
        "Hints:\n",
        "\n",
        "Use Python's built-in csv module to handle CSV files.\n",
        "\n",
        "Use csv.writer() to write data to the CSV file.\n",
        "\n",
        "Use csv.reader() to read the content from the CSV file.\n",
        "\n",
        "Once you've written the code, share it here, and I'll review it!"
      ],
      "metadata": {
        "id": "H-lzvdznamet"
      }
    },
    {
      "cell_type": "code",
      "source": [
        "import csv\n",
        "file_name = \"employees.csv\"\n",
        "data = [['Name','Age','Department'],['Alice','30','HR'],['Bob',25,'IT'],['Charle',28,'Finance']]\n",
        "\n",
        "with open(file_name, 'w', newline='') as file:\n",
        "  writer = csv.writer(file)\n",
        "  writer.writerows(data)\n",
        "\n",
        "with open(file_name, 'r') as file:\n",
        "  reader = csv.reader(file)\n",
        "  for row in reader:\n",
        "    print(row)\n",
        "\n"
      ],
      "metadata": {
        "colab": {
          "base_uri": "https://localhost:8080/"
        },
        "id": "PPWcfMdBcKnn",
        "outputId": "67f9f830-6478-4279-fc84-78f5ddd89873"
      },
      "execution_count": null,
      "outputs": [
        {
          "output_type": "stream",
          "name": "stdout",
          "text": [
            "['Name', 'Age', 'Department']\n",
            "['Alice', '30', 'HR']\n",
            "['Bob', '25', 'IT']\n",
            "['Charle', '28', 'Finance']\n"
          ]
        }
      ]
    },
    {
      "cell_type": "markdown",
      "source": [
        "Day 13: String Manipulation\n",
        "Problem:\n",
        "Write a Python program that:\n",
        "\n",
        "Takes a string input from the user.\n",
        "\n",
        "Counts the number of vowels (a, e, i, o, u) in the string (both uppercase and lowercase vowels).\n",
        "\n",
        "Prints the total count of vowels.\n",
        "\n",
        "Hints:\n",
        "\n",
        "Use a for loop to iterate over each character in the string.\n",
        "\n",
        "Check if each character is a vowel (either lowercase or uppercase).\n",
        "\n",
        "Keep a counter to track the number of vowels."
      ],
      "metadata": {
        "id": "ayhjDkEbYtGS"
      }
    },
    {
      "cell_type": "code",
      "source": [
        "word = input(\"Enter a word\")\n",
        "count = 0\n",
        "\n",
        "for letter in word:\n",
        "  if letter in \"aeiouAEIOU\":\n",
        "    count = count + 1\n",
        "\n",
        "print(f\"Total number of vowels is {count}\")\n"
      ],
      "metadata": {
        "colab": {
          "base_uri": "https://localhost:8080/"
        },
        "id": "C20wZtzcYvu-",
        "outputId": "e9581ac8-475d-4a1f-8e20-6f63b79f50d3"
      },
      "execution_count": 1,
      "outputs": [
        {
          "output_type": "stream",
          "name": "stdout",
          "text": [
            "Enter a wordAjinkya\n",
            "Total number of vowels is 3\n"
          ]
        }
      ]
    },
    {
      "cell_type": "code",
      "source": [],
      "metadata": {
        "id": "ST7uVyjaZjoE"
      },
      "execution_count": null,
      "outputs": []
    }
  ]
}