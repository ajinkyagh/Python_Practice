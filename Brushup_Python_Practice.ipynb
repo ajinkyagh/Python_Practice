{
  "nbformat": 4,
  "nbformat_minor": 0,
  "metadata": {
    "colab": {
      "provenance": [],
      "mount_file_id": "1_o7d7iBCBdqEKHhcw0HxHK3yLetU8vd7",
      "authorship_tag": "ABX9TyPnXkTfIU5v1wkCKaBKUEun",
      "include_colab_link": true
    },
    "kernelspec": {
      "name": "python3",
      "display_name": "Python 3"
    }
  },
  "cells": [
    {
      "cell_type": "markdown",
      "metadata": {
        "id": "view-in-github",
        "colab_type": "text"
      },
      "source": [
        "<a href=\"https://colab.research.google.com/github/ajinkyagh/Python_Practice/blob/main/Brushup_Python_Practice.ipynb\" target=\"_parent\"><img src=\"https://colab.research.google.com/assets/colab-badge.svg\" alt=\"Open In Colab\"/></a>"
      ]
    },
    {
      "cell_type": "markdown",
      "source": [
        "Day 1: Introduction to Python\n",
        "Problem:\n",
        "Write a Python program that:\n",
        "\n",
        "Takes two numbers as input from the user.\n",
        "\n",
        "Prints the sum, difference, product, and quotient of those two numbers.\n",
        "\n",
        "Hints:\n",
        "\n",
        "Use input() to get input from the user.\n",
        "\n",
        "Convert the input to integers using int().\n",
        "\n",
        "Perform the four operations (sum, difference, product, quotient) and print the results.\n",
        "\n"
      ],
      "metadata": {
        "id": "jwLUfBqPjnMH"
      }
    },
    {
      "cell_type": "code",
      "source": [
        "num_1 = int(input(\"Enter number 1: \"))\n",
        "num_2 =int(input(\"Enter number 2: \"))"
      ],
      "metadata": {
        "colab": {
          "base_uri": "https://localhost:8080/"
        },
        "id": "olnmby77jq6L",
        "outputId": "12251d87-4c32-4452-a88b-21dfe25ef80e"
      },
      "execution_count": null,
      "outputs": [
        {
          "name": "stdout",
          "output_type": "stream",
          "text": [
            "Enter number 1: 10\n",
            "Enter number 2: 20\n"
          ]
        }
      ]
    },
    {
      "cell_type": "code",
      "source": [
        "print(f\"Sum of {num_1} and {num_2} is {num_1+num_2}\")"
      ],
      "metadata": {
        "colab": {
          "base_uri": "https://localhost:8080/"
        },
        "id": "W8OWbRdGkbfI",
        "outputId": "3e7447c4-e851-4dee-c7e3-2f5bdfb0da0e"
      },
      "execution_count": null,
      "outputs": [
        {
          "output_type": "stream",
          "name": "stdout",
          "text": [
            "Sum of 10 and 20 is 30\n"
          ]
        }
      ]
    },
    {
      "cell_type": "code",
      "source": [
        "print(f\"Difference of {num_1} and {num_2} is {num_1-num_2}\")"
      ],
      "metadata": {
        "colab": {
          "base_uri": "https://localhost:8080/"
        },
        "id": "-7lLAEkklN5C",
        "outputId": "7cdb38f0-9ccb-474a-df97-7868bb0137ac"
      },
      "execution_count": null,
      "outputs": [
        {
          "output_type": "stream",
          "name": "stdout",
          "text": [
            "Difference of 10 and 20 is -10\n"
          ]
        }
      ]
    },
    {
      "cell_type": "code",
      "source": [
        "print(f\"Product of {num_1} and {num_2} is {num_1*num_2}\")"
      ],
      "metadata": {
        "colab": {
          "base_uri": "https://localhost:8080/"
        },
        "id": "UxAcIED3ls3H",
        "outputId": "2d95e22c-d5f3-444e-fbcd-250f6fbc6e4d"
      },
      "execution_count": null,
      "outputs": [
        {
          "output_type": "stream",
          "name": "stdout",
          "text": [
            "Product of 10 and 20 is 200\n"
          ]
        }
      ]
    },
    {
      "cell_type": "code",
      "source": [
        "if num_2 != 0:\n",
        "  print(f\"Quotient of {num_1} and {num_2} is {num_1/num_2}\")\n",
        "else:\n",
        "  print (\"Cannot divide by zero\")"
      ],
      "metadata": {
        "colab": {
          "base_uri": "https://localhost:8080/"
        },
        "id": "Pc6b1DQBmNtw",
        "outputId": "d58484aa-2cef-4736-a5f9-9a8024b352e9"
      },
      "execution_count": null,
      "outputs": [
        {
          "output_type": "stream",
          "name": "stdout",
          "text": [
            "Quotient of 10 and 20 is 0.5\n"
          ]
        }
      ]
    },
    {
      "cell_type": "markdown",
      "source": [
        "Day 2: Variables and Data Types\n",
        "Problem:\n",
        "Write a Python program that:\n",
        "\n",
        "Stores your name, age, and city in variables.\n",
        "\n",
        "Then, prints a message that says:\n",
        "\"Hello, my name is [name], I am [age] years old, and I live in [city].\"\n",
        "\n",
        "Hints:\n",
        "\n",
        "Use variables to store your name, age, and city.\n",
        "\n",
        "Use an f-string or .format() to print the message with the values of the variables."
      ],
      "metadata": {
        "id": "xC2eU49VrI1u"
      }
    },
    {
      "cell_type": "code",
      "source": [
        "name = \"Ajinkya\"\n",
        "age = 26\n",
        "city = \"Worcester\""
      ],
      "metadata": {
        "id": "6y6ZO_z7sZc2"
      },
      "execution_count": null,
      "outputs": []
    },
    {
      "cell_type": "code",
      "source": [
        "print(\"Hello, my name is {} age is {} and city is {}\".format(name, age, city) )"
      ],
      "metadata": {
        "colab": {
          "base_uri": "https://localhost:8080/"
        },
        "id": "SUmJ6_A0sgWc",
        "outputId": "ced9bfeb-e76b-402e-865b-69ffe31fbb4a"
      },
      "execution_count": null,
      "outputs": [
        {
          "output_type": "stream",
          "name": "stdout",
          "text": [
            "Hello, my name is Ajinkya age is 26 and city is Worcester\n"
          ]
        }
      ]
    },
    {
      "cell_type": "markdown",
      "source": [
        "Day 3: Control Flow - if, elif, else\n",
        "Problem:\n",
        "Write a Python program that:\n",
        "\n",
        "Takes an integer input from the user.\n",
        "\n",
        "Checks whether the number is positive, negative, or zero.\n",
        "\n",
        "Prints the appropriate message:\n",
        "\n",
        "\"The number is positive\"\n",
        "\n",
        "\"The number is negative\"\n",
        "\n",
        "\"The number is zero\"\n",
        "\n",
        "Hints:\n",
        "\n",
        "Use if, elif, and else to check the conditions.\n",
        "\n",
        "For the if condition, check if the number is greater than zero.\n",
        "\n",
        "For the elif, check if the number is less than zero.\n",
        "\n",
        "Use else for the case when the number is zero."
      ],
      "metadata": {
        "id": "QM6ANHwquec9"
      }
    },
    {
      "cell_type": "code",
      "source": [
        "number = int(input(\"Enter a number: \"))\n",
        "\n",
        "if number > 0 :\n",
        "  print(\"The number is positive\")\n",
        "elif number < 0:\n",
        "  print(\"The number is negative\")\n",
        "else:\n",
        "  print (\"The number is zero\")"
      ],
      "metadata": {
        "colab": {
          "base_uri": "https://localhost:8080/"
        },
        "id": "iYKKXnKguilh",
        "outputId": "cc0987f3-694d-41a0-a233-a80c5e2ef691"
      },
      "execution_count": null,
      "outputs": [
        {
          "output_type": "stream",
          "name": "stdout",
          "text": [
            "Enter a number: 10\n",
            "The number is positive\n"
          ]
        }
      ]
    },
    {
      "cell_type": "markdown",
      "source": [
        "Day 4: Loops - for and while\n",
        "Problem:\n",
        "Write a Python program that prints all even numbers from 1 to 20 using a for loop.\n",
        "\n",
        "Hints:\n",
        "\n",
        "Use range() to loop over numbers from 1 to 20.\n",
        "\n",
        "Use the modulus operator (%) to check if a number is even. If number % 2 == 0, then the number is even."
      ],
      "metadata": {
        "id": "qc5Cm9Sa5lkp"
      }
    },
    {
      "cell_type": "code",
      "source": [
        "for number in range (1,21):\n",
        "  if number % 2 == 0:\n",
        "    print(number)"
      ],
      "metadata": {
        "colab": {
          "base_uri": "https://localhost:8080/"
        },
        "id": "Pdepfl8r6H0x",
        "outputId": "bcd870f0-a3ac-4006-d013-922dc8ea17be"
      },
      "execution_count": null,
      "outputs": [
        {
          "output_type": "stream",
          "name": "stdout",
          "text": [
            "2\n",
            "4\n",
            "6\n",
            "8\n",
            "10\n",
            "12\n",
            "14\n",
            "16\n",
            "18\n",
            "20\n"
          ]
        }
      ]
    },
    {
      "cell_type": "markdown",
      "source": [
        "Day 5: List Operations\n",
        "Problem:\n",
        "Write a Python program that:\n",
        "\n",
        "Takes a list of numbers as input from the user (you can hardcode the list if you prefer).\n",
        "\n",
        "Prints the sum of all the numbers in the list.\n",
        "\n",
        "Prints the average of the numbers in the list.\n",
        "\n",
        "Hints:\n",
        "\n",
        "You can use the sum() function to get the sum of the list.\n",
        "\n",
        "To find the average, divide the sum of the list by the length of the list, which can be found using len()."
      ],
      "metadata": {
        "id": "uM5SFGuH7wCs"
      }
    },
    {
      "cell_type": "code",
      "source": [
        "numbers = [1,2,3,4,5,6,7,8]\n",
        "\n",
        "print(f\"Sum of number is {sum(numbers)}\")\n",
        "print(f\"Average of numbers is {sum(numbers)/len(numbers)}\")"
      ],
      "metadata": {
        "colab": {
          "base_uri": "https://localhost:8080/"
        },
        "id": "YWlEdczs7zzz",
        "outputId": "5d4238ef-4d63-43e7-bd48-0b2fa57f3794"
      },
      "execution_count": null,
      "outputs": [
        {
          "output_type": "stream",
          "name": "stdout",
          "text": [
            "Sum of number is 36\n",
            "Average of numbers is 4.5\n"
          ]
        }
      ]
    },
    {
      "cell_type": "markdown",
      "source": [
        "Day 6: Functions - Creating Functions\n",
        "Problem:\n",
        "Write a Python function that:\n",
        "\n",
        "Takes two numbers as parameters.\n",
        "\n",
        "Returns their multiplication result.\n",
        "\n",
        "Then, call the function with two numbers and print the result.\n",
        "\n",
        "Hints:\n",
        "\n",
        "Define a function using def.\n",
        "\n",
        "The function should accept two parameters and return their product.\n",
        "\n",
        "Use the return keyword to return the result."
      ],
      "metadata": {
        "id": "oJ4ekL96DrV6"
      }
    },
    {
      "cell_type": "code",
      "source": [
        "def multiplication (number_1, number_2):\n",
        "  return number_1 * number_2\n",
        "\n",
        "result = multiplication(2,3)\n",
        "\n",
        "print(f\"Multiplication is : {result}\")"
      ],
      "metadata": {
        "colab": {
          "base_uri": "https://localhost:8080/"
        },
        "id": "9d5WqT8LA93C",
        "outputId": "415fef7a-da16-4f71-8a2e-2af88111509f"
      },
      "execution_count": null,
      "outputs": [
        {
          "output_type": "stream",
          "name": "stdout",
          "text": [
            "Multiplication is : 6\n"
          ]
        }
      ]
    },
    {
      "cell_type": "markdown",
      "source": [
        "Day 7: List Comprehensions\n",
        "Problem:\n",
        "Write a Python program that:\n",
        "\n",
        "Takes a list of numbers.\n",
        "\n",
        "Returns a new list that contains the square of each number in the original list using list comprehension.\n",
        "\n",
        "Hints:\n",
        "\n",
        "Use list comprehension to create a new list.\n",
        "\n",
        "For each number in the original list, square it using number ** 2."
      ],
      "metadata": {
        "id": "sMg3MtVPnnWB"
      }
    },
    {
      "cell_type": "code",
      "source": [
        "number = [x**2 for x in range(1,11)]\n",
        "print(number)"
      ],
      "metadata": {
        "colab": {
          "base_uri": "https://localhost:8080/"
        },
        "id": "8sO-srwQmW7U",
        "outputId": "ae9a89c6-8fa1-40ad-eb8b-a3375ee1447e"
      },
      "execution_count": null,
      "outputs": [
        {
          "output_type": "stream",
          "name": "stdout",
          "text": [
            "[1, 4, 9, 16, 25, 36, 49, 64, 81, 100]\n"
          ]
        }
      ]
    },
    {
      "cell_type": "markdown",
      "source": [
        "Day 8: Tuples and Sets\n",
        "Problem:\n",
        "Write a Python program that:\n",
        "\n",
        "Takes a list of items (you can hardcode it for now).\n",
        "\n",
        "Converts the list into a tuple.\n",
        "\n",
        "Removes duplicate values from the list by converting it into a set.\n",
        "\n",
        "Prints the tuple and the set.\n",
        "\n",
        "Hints:\n",
        "\n",
        "Use tuple() to convert the list into a tuple.\n",
        "\n",
        "Use set() to remove duplicates, as sets do not allow duplicate values.\n",
        "\n",
        "Print both the tuple and the set."
      ],
      "metadata": {
        "id": "5BEMBeLKuE7f"
      }
    },
    {
      "cell_type": "code",
      "source": [
        "items = [1, 1 ,3 ,2 , 2, 4, 5]\n",
        "tuple_list = tuple(items)\n",
        "set_list = set(items)\n",
        "\n",
        "print (tuple_list)\n",
        "print (set_list)"
      ],
      "metadata": {
        "colab": {
          "base_uri": "https://localhost:8080/"
        },
        "id": "y_MwANogo6bx",
        "outputId": "8e037274-1d87-4f34-d738-dcee0600d522"
      },
      "execution_count": null,
      "outputs": [
        {
          "output_type": "stream",
          "name": "stdout",
          "text": [
            "(1, 1, 3, 2, 2, 4, 5)\n",
            "{1, 2, 3, 4, 5}\n"
          ]
        }
      ]
    },
    {
      "cell_type": "markdown",
      "source": [
        "Day 9: Dictionary Operations\n",
        "Problem:\n",
        "Write a Python program that:\n",
        "\n",
        "Creates a dictionary with the following key-value pairs:\n",
        "\n",
        "\"name\": \"Alice\"\n",
        "\n",
        "\"age\": 30\n",
        "\n",
        "\"city\": \"New York\"\n",
        "\n",
        "Adds a new key-value pair: \"job\": \"Engineer\".\n",
        "\n",
        "Removes the \"age\" key-value pair.\n",
        "\n",
        "Prints the final dictionary.\n",
        "\n",
        "Hints:\n",
        "\n",
        "Use {} to create a dictionary.\n",
        "\n",
        "To add a new key-value pair, just assign a value to a new key.\n",
        "\n",
        "To remove an item, use the del keyword or pop()."
      ],
      "metadata": {
        "id": "lqoHJ6MVzOkR"
      }
    },
    {
      "cell_type": "code",
      "source": [
        "dict = {\"name\": \"Alice\", \"age\": 30, \"city\": \"New York\"}\n",
        "dict[\"job\"] = \"Engineer\"\n",
        "dict.pop(\"age\")\n",
        "\n",
        "print(dict)"
      ],
      "metadata": {
        "colab": {
          "base_uri": "https://localhost:8080/"
        },
        "id": "yjZBXPRuvTeA",
        "outputId": "d7d75d72-49b0-44d2-a85f-36bb84d84fea"
      },
      "execution_count": null,
      "outputs": [
        {
          "output_type": "stream",
          "name": "stdout",
          "text": [
            "{'name': 'Alice', 'city': 'New York', 'job': 'Engineer'}\n"
          ]
        }
      ]
    },
    {
      "cell_type": "markdown",
      "source": [
        "Day 10: File Handling - Reading a File\n",
        "Problem:\n",
        "Write a Python program that:\n",
        "\n",
        "Creates a text file called sample.txt.\n",
        "\n",
        "Writes the following content to the file:\n",
        "\n",
        "kotlin\n",
        "Copy\n",
        "Hello, this is a sample text file.\n",
        "We are learning Python file handling.\n",
        "Reads the content from the file and prints it.\n",
        "\n",
        "Hints:\n",
        "\n",
        "Use the open() function to create and open the file.\n",
        "\n",
        "Use 'w' mode to write to the file and 'r' mode to read from it.\n",
        "\n",
        "Close the file after reading."
      ],
      "metadata": {
        "id": "VuJdJQ2HKD0k"
      }
    },
    {
      "cell_type": "code",
      "source": [
        "file_name= \"sample.txt\"\n",
        "with open(file_name, \"w\") as file:\n",
        "  file.write(\"Hello, this is a sample text file. We are learning Python file handling.\")\n",
        "\n",
        "with open(file_name, \"r\") as file:\n",
        "  content = file.read()\n",
        "  print(content)"
      ],
      "metadata": {
        "colab": {
          "base_uri": "https://localhost:8080/"
        },
        "id": "sh-kB4oPKJtL",
        "outputId": "0256a9c6-0d2a-49a4-b6c8-1dc270c06ac0"
      },
      "execution_count": null,
      "outputs": [
        {
          "output_type": "stream",
          "name": "stdout",
          "text": [
            "Hello, this is a sample text file. We are learning Python file handling.\n"
          ]
        }
      ]
    },
    {
      "cell_type": "markdown",
      "source": [
        "Day 11: File Handling - Writing to a File\n",
        "Problem:\n",
        "Write a Python program that:\n",
        "\n",
        "Creates a text file called students.txt.\n",
        "\n",
        "Writes the following lines to the file (each on a new line):\n",
        "\n",
        "Copy\n",
        "Alice, 25\n",
        "Bob, 30\n",
        "Charlie, 22\n",
        "Reads the content from the file and prints it line by line.\n",
        "\n",
        "Hints:\n",
        "\n",
        "Use 'w' mode to write to the file and 'r' mode to read from it.\n",
        "\n",
        "To write multiple lines, you can either use write() multiple times or writelines() to write a list of strings.\n",
        "\n",
        "When reading, use readlines() to get all lines as a list, and then loop through them to print each line.\n",
        "\n"
      ],
      "metadata": {
        "id": "qsi3zisaW-Wi"
      }
    },
    {
      "cell_type": "code",
      "source": [
        "file_name = \"students.txt\"\n",
        "with open(file_name, \"w\") as file:\n",
        "  file.write(\"Alice, 25\\n\")\n",
        "  file.write(\"Bob, 30\\n\")\n",
        "  file.write(\"Charlie, 22\\n\")\n",
        "\n",
        "with open(file_name, \"r\") as file:\n",
        "  lines = file.readlines()\n",
        "  for line in lines:\n",
        "    print(line)\n"
      ],
      "metadata": {
        "colab": {
          "base_uri": "https://localhost:8080/"
        },
        "id": "Og5wpumuXCcT",
        "outputId": "fce63b1a-e59b-4be7-aaa7-e61e950af45c"
      },
      "execution_count": null,
      "outputs": [
        {
          "output_type": "stream",
          "name": "stdout",
          "text": [
            "Alice, 25\n",
            "\n",
            "Bob, 30\n",
            "\n",
            "Charlie, 22\n",
            "\n"
          ]
        }
      ]
    },
    {
      "cell_type": "markdown",
      "source": [
        "Day 12: File Handling - CSV Files\n",
        "Problem:\n",
        "Write a Python program that:\n",
        "\n",
        "Creates a CSV file called employees.csv.\n",
        "\n",
        "Writes the following data to the file:\n",
        "\n",
        "pgsql\n",
        "Copy\n",
        "Name, Age, Department\n",
        "Alice, 30, HR\n",
        "Bob, 25, IT\n",
        "Charlie, 28, Finance\n",
        "Reads the content from the CSV file and prints each row.\n",
        "\n",
        "Hints:\n",
        "\n",
        "Use Python's built-in csv module to handle CSV files.\n",
        "\n",
        "Use csv.writer() to write data to the CSV file.\n",
        "\n",
        "Use csv.reader() to read the content from the CSV file.\n",
        "\n",
        "Once you've written the code, share it here, and I'll review it!"
      ],
      "metadata": {
        "id": "H-lzvdznamet"
      }
    },
    {
      "cell_type": "code",
      "source": [
        "import csv\n",
        "file_name = \"employees.csv\"\n",
        "data = [['Name','Age','Department'],['Alice','30','HR'],['Bob',25,'IT'],['Charle',28,'Finance']]\n",
        "\n",
        "with open(file_name, 'w', newline='') as file:\n",
        "  writer = csv.writer(file)\n",
        "  writer.writerows(data)\n",
        "\n",
        "with open(file_name, 'r') as file:\n",
        "  reader = csv.reader(file)\n",
        "  for row in reader:\n",
        "    print(row)\n",
        "\n"
      ],
      "metadata": {
        "colab": {
          "base_uri": "https://localhost:8080/"
        },
        "id": "PPWcfMdBcKnn",
        "outputId": "67f9f830-6478-4279-fc84-78f5ddd89873"
      },
      "execution_count": null,
      "outputs": [
        {
          "output_type": "stream",
          "name": "stdout",
          "text": [
            "['Name', 'Age', 'Department']\n",
            "['Alice', '30', 'HR']\n",
            "['Bob', '25', 'IT']\n",
            "['Charle', '28', 'Finance']\n"
          ]
        }
      ]
    },
    {
      "cell_type": "markdown",
      "source": [
        "Day 13: String Manipulation\n",
        "Problem:\n",
        "Write a Python program that:\n",
        "\n",
        "Takes a string input from the user.\n",
        "\n",
        "Counts the number of vowels (a, e, i, o, u) in the string (both uppercase and lowercase vowels).\n",
        "\n",
        "Prints the total count of vowels.\n",
        "\n",
        "Hints:\n",
        "\n",
        "Use a for loop to iterate over each character in the string.\n",
        "\n",
        "Check if each character is a vowel (either lowercase or uppercase).\n",
        "\n",
        "Keep a counter to track the number of vowels."
      ],
      "metadata": {
        "id": "ayhjDkEbYtGS"
      }
    },
    {
      "cell_type": "code",
      "source": [
        "word = input(\"Enter a word\")\n",
        "count = 0\n",
        "\n",
        "for letter in word:\n",
        "  if letter in \"aeiouAEIOU\":\n",
        "    count = count + 1\n",
        "\n",
        "print(f\"Total number of vowels is {count}\")\n"
      ],
      "metadata": {
        "colab": {
          "base_uri": "https://localhost:8080/"
        },
        "id": "C20wZtzcYvu-",
        "outputId": "e9581ac8-475d-4a1f-8e20-6f63b79f50d3"
      },
      "execution_count": 1,
      "outputs": [
        {
          "output_type": "stream",
          "name": "stdout",
          "text": [
            "Enter a wordAjinkya\n",
            "Total number of vowels is 3\n"
          ]
        }
      ]
    },
    {
      "cell_type": "markdown",
      "source": [
        "Day 14: Slicing Lists and Strings\n",
        "Problem:\n",
        "Write a Python program that:\n",
        "\n",
        "Takes a string input from the user.\n",
        "\n",
        "Prints the first 5 characters of the string.\n",
        "\n",
        "Prints the last 3 characters of the string.\n",
        "\n",
        "Hints:\n",
        "\n",
        "Use string slicing to extract the required parts of the string.\n",
        "\n",
        "To get the first 5 characters, use string[:5].\n",
        "\n",
        "To get the last 3 characters, use string[-3:]."
      ],
      "metadata": {
        "id": "ag-3ZwCDRNKU"
      }
    },
    {
      "cell_type": "code",
      "source": [
        "input_string = input(\"Enter a string: \")\n",
        "\n",
        "first_five = input_string[:5]\n",
        "last_three = input_string[-3:]\n",
        "\n",
        "print(f\"First 5 characters: {first_five}\")\n",
        "print(f\"Last 3 characters: {last_three}\")"
      ],
      "metadata": {
        "colab": {
          "base_uri": "https://localhost:8080/"
        },
        "id": "9d7lFg8cRQFN",
        "outputId": "631e9c4a-bbce-4c25-e422-5c219cd772c6"
      },
      "execution_count": 1,
      "outputs": [
        {
          "output_type": "stream",
          "name": "stdout",
          "text": [
            "Enter a string: ajinkya\n",
            "First 5 characters: ajink\n",
            "Last 3 characters: kya\n"
          ]
        }
      ]
    },
    {
      "cell_type": "markdown",
      "source": [
        "Day 15: Numpy Basics\n",
        "Problem:\n",
        "Write a Python program that:\n",
        "\n",
        "Imports the numpy library.\n",
        "\n",
        "Creates a Numpy array with 10 random integers between 1 and 100.\n",
        "\n",
        "Prints the array.\n",
        "\n",
        "Calculates and prints the sum and the mean of the numbers in the array.\n",
        "\n",
        "Hints:\n",
        "\n",
        "Use numpy.random.randint() to generate random integers.\n",
        "\n",
        "Use numpy.sum() to calculate the sum of the array.\n",
        "\n",
        "Use numpy.mean() to calculate the mean of the array.\n",
        "\n"
      ],
      "metadata": {
        "id": "8QSZcvP-Uonm"
      }
    },
    {
      "cell_type": "code",
      "source": [
        "import numpy as np\n",
        "\n",
        "\n",
        "random_integers = np.random.randint(1, 101, size=10)\n",
        "\n",
        "print(f\"Random integers: {random_integers}\")\n",
        "print(f\"Sum is {np.sum(random_integers)}\")\n",
        "print(f\"Mean is {np.mean(random_integers)}\")\n"
      ],
      "metadata": {
        "colab": {
          "base_uri": "https://localhost:8080/"
        },
        "id": "xd_FQOXDUsFN",
        "outputId": "0a856847-391b-48c9-8da8-cce2ff99d14c"
      },
      "execution_count": 15,
      "outputs": [
        {
          "output_type": "stream",
          "name": "stdout",
          "text": [
            "Random integers: [66  8  9 60 12 38 44 48  3 75]\n",
            "Sum is 363\n",
            "Mean is 36.3\n"
          ]
        }
      ]
    },
    {
      "cell_type": "markdown",
      "source": [
        "Day 16: Numpy Array Operations\n",
        "Problem:\n",
        "Write a Python program that:\n",
        "\n",
        "Creates a Numpy array of 10 random integers between 1 and 50.\n",
        "\n",
        "Finds the maximum, minimum, and average of the array.\n",
        "\n",
        "Prints the array, maximum, minimum, and average values.\n",
        "\n",
        "Hints:\n",
        "\n",
        "Use numpy.random.randint() to generate random integers.\n",
        "\n",
        "Use numpy.max(), numpy.min(), and numpy.mean() to calculate the maximum, minimum, and average respectively.\n",
        "\n"
      ],
      "metadata": {
        "id": "iTRRtorbusZm"
      }
    },
    {
      "cell_type": "code",
      "source": [
        "import numpy as np\n",
        "random_integers = np.random.randint(1, 51, size=10)\n",
        "\n",
        "print(f\"Random integers: {random_integers}\")\n",
        "print(f\"Max is {np.max(random_integers)}\")\n",
        "print(f\"Min is {np.min(random_integers)}\")\n",
        "print(f\"Mean is {np.mean(random_integers)}\")\n",
        "\n"
      ],
      "metadata": {
        "colab": {
          "base_uri": "https://localhost:8080/"
        },
        "id": "lqK1MmLQutnF",
        "outputId": "bcd8f485-1fb8-4ab2-eb7a-5d1cddc7da4a"
      },
      "execution_count": 1,
      "outputs": [
        {
          "output_type": "stream",
          "name": "stdout",
          "text": [
            "Random integers: [15 18 16 49 17 48  7 44 27 12]\n",
            "Max is 49\n",
            "Min is 7\n",
            "Mean is 25.3\n"
          ]
        }
      ]
    },
    {
      "cell_type": "markdown",
      "source": [
        "Day 17: Pandas Basics - DataFrame Creation\n",
        "Problem:\n",
        "Write a Python program that:\n",
        "\n",
        "Imports the pandas library.\n",
        "\n",
        "Creates a DataFrame using the following data:\n",
        "\n",
        "pgsql\n",
        "Copy\n",
        "Name, Age, Department\n",
        "Alice, 30, HR\n",
        "Bob, 25, IT\n",
        "Charlie, 28, Finance\n",
        "Prints the DataFrame.\n",
        "\n",
        "Hints:\n",
        "\n",
        "Use pandas.DataFrame() to create a DataFrame.\n",
        "\n",
        "Pass a dictionary or a list of lists to the DataFrame() constructor to create the table."
      ],
      "metadata": {
        "id": "g7--Mh0CvoqB"
      }
    },
    {
      "cell_type": "code",
      "source": [
        "import pandas as pd\n",
        "\n",
        "details = [['Alice', 30, 'HR' ], ['Bob', 25, 'IT'], ['Charlie', 28,'Finance'] ]\n",
        "\n",
        "columns = ['Name', 'Age', 'Department']\n",
        "\n",
        "df = pd.DataFrame(details, columns= columns)\n",
        "print(df)"
      ],
      "metadata": {
        "colab": {
          "base_uri": "https://localhost:8080/"
        },
        "id": "FHUWruE3vp5b",
        "outputId": "8614ae72-fd2d-479f-f809-7705baa5b640"
      },
      "execution_count": 4,
      "outputs": [
        {
          "output_type": "stream",
          "name": "stdout",
          "text": [
            "      Name  Age Department\n",
            "0    Alice   30         HR\n",
            "1      Bob   25         IT\n",
            "2  Charlie   28    Finance\n"
          ]
        }
      ]
    },
    {
      "cell_type": "markdown",
      "source": [
        "Day 18: Pandas - DataFrame Operations\n",
        "Problem:\n",
        "Write a Python program that:\n",
        "\n",
        "Creates a DataFrame with the following data:\n",
        "\n",
        "Name, Age, Department\n",
        "Alice, 30, HR\n",
        "Bob, 25, IT\n",
        "Charlie, 28, Finance\n",
        "David, 35, HR\n",
        "Eve, 22, IT\n",
        "\n",
        "Filters the DataFrame to show only the rows where the Department is \"HR\".\n",
        "\n",
        "Prints the filtered DataFrame.\n",
        "\n",
        "Hints:\n",
        "\n",
        "Use pandas.DataFrame() to create the DataFrame.\n",
        "\n",
        "Use conditional filtering to select rows based on the Department column: df[df['Department'] == 'HR']."
      ],
      "metadata": {
        "id": "v0hNHooJ2Dyu"
      }
    },
    {
      "cell_type": "code",
      "source": [
        "import pandas as pd\n",
        "\n",
        "details = [['Alice', 30, 'HR' ], ['Bob', 25, 'IT'], ['Charlie', 28,'Finance'] ]\n",
        "columns = ['Name', 'Age', 'Department']\n",
        "\n",
        "df = pd.DataFrame(details, columns= columns)\n",
        "print(df)\n",
        "\n",
        "\n",
        "filtered_df = df[df['Department'] == 'HR']\n",
        "print(filtered_df)"
      ],
      "metadata": {
        "colab": {
          "base_uri": "https://localhost:8080/"
        },
        "id": "wwg-ROIH2KjX",
        "outputId": "dc116ad2-3ab8-4346-e924-cd2523ca2f17"
      },
      "execution_count": 10,
      "outputs": [
        {
          "output_type": "stream",
          "name": "stdout",
          "text": [
            "      Name  Age Department\n",
            "0    Alice   30         HR\n",
            "1      Bob   25         IT\n",
            "2  Charlie   28    Finance\n",
            "    Name  Age Department\n",
            "0  Alice   30         HR\n"
          ]
        }
      ]
    },
    {
      "cell_type": "markdown",
      "source": [
        "Day 19: Pandas - Grouping Data\n",
        "Problem:\n",
        "Write a Python program that:\n",
        "\n",
        "Creates a DataFrame with the following data:\n",
        "\n",
        "Name, Age, Department\n",
        "Alice, 30, HR\n",
        "Bob, 25, IT\n",
        "Charlie, 28, Finance\n",
        "David, 35, HR\n",
        "Eve, 22, IT\n",
        "Frank, 40, Finance\n",
        "\n",
        "\n",
        "Groups the DataFrame by the Department column and calculates the average age for each department.\n",
        "\n",
        "Prints the grouped DataFrame with the average ages.\n",
        "\n",
        "Hints:\n",
        "\n",
        "Use the groupby() method to group by the Department column.\n",
        "\n",
        "Use agg() or mean() to calculate the average age for each group.\n",
        "\n",
        "Once you've written the code, share it here, and I'll review it!"
      ],
      "metadata": {
        "id": "VZGryyydEkJm"
      }
    },
    {
      "cell_type": "code",
      "source": [
        "import pandas as pd\n",
        "\n",
        "details = [['Alice', 30, 'HR' ], ['Bob', 25, 'IT'], ['Charlie', 28,'Finance'] ]\n",
        "columns = ['Name', 'Age', 'Department']\n",
        "\n",
        "df = pd.DataFrame(details, columns= columns)\n",
        "\n",
        "average = df.groupby('Department')['Age'].agg('mean')\n",
        "\n",
        "print(average)"
      ],
      "metadata": {
        "colab": {
          "base_uri": "https://localhost:8080/"
        },
        "id": "OJIWNV_5EqmL",
        "outputId": "fbf697ff-11a3-4825-b80f-9f016d72aed9"
      },
      "execution_count": 14,
      "outputs": [
        {
          "output_type": "stream",
          "name": "stdout",
          "text": [
            "Department\n",
            "Finance    28.0\n",
            "HR         30.0\n",
            "IT         25.0\n",
            "Name: Age, dtype: float64\n"
          ]
        }
      ]
    },
    {
      "cell_type": "markdown",
      "source": [
        "Day 20: Pandas - Missing Data\n",
        "Problem:\n",
        "Write a Python program that:\n",
        "\n",
        "Creates a DataFrame with the following data (with some missing values):\n",
        "\n",
        "pgsql\n",
        "Copy\n",
        "Name, Age, Department\n",
        "Alice, 30, HR\n",
        "Bob, NaN, IT\n",
        "Charlie, 28, Finance\n",
        "David, NaN, HR\n",
        "Eve, 22, IT\n",
        "Frank, 40, Finance\n",
        "Handles missing values in the Age column by filling them with the average age.\n",
        "\n",
        "Prints the DataFrame with the filled missing values.\n",
        "\n",
        "Hints:\n",
        "\n",
        "Use pandas.isnull() or pandas.isna() to identify missing values.\n",
        "\n",
        "Use fillna() to fill the missing values with the mean of the Age column."
      ],
      "metadata": {
        "id": "qarBA-xFJtEG"
      }
    },
    {
      "cell_type": "code",
      "source": [
        "import pandas as pd\n",
        "import numpy as np\n",
        "\n",
        "details = {'Name':['Alice', 'Bob', 'Charlie', 'David', 'Eve', 'Frank'],\n",
        "           'Age':[30, np.nan ,28,np.nan ,22,40],\n",
        "           'Department': ['HR', 'IT', 'Finance', 'HR', 'IT','Finance']}\n",
        "\n",
        "df = pd.DataFrame(details)\n",
        "\n",
        "missing_values = df.isnull().sum()\n",
        "print(missing_values)\n",
        "\n",
        "df = df.fillna(df['Age'].mean())\n",
        "\n",
        "print(df)\n",
        "\n"
      ],
      "metadata": {
        "colab": {
          "base_uri": "https://localhost:8080/"
        },
        "id": "ieZZjT5SJwtb",
        "outputId": "77db3813-c453-4090-8d6f-48e8d00eddfd"
      },
      "execution_count": 30,
      "outputs": [
        {
          "output_type": "stream",
          "name": "stdout",
          "text": [
            "Name          0\n",
            "Age           2\n",
            "Department    0\n",
            "dtype: int64\n",
            "      Name   Age Department\n",
            "0    Alice  30.0         HR\n",
            "1      Bob  30.0         IT\n",
            "2  Charlie  28.0    Finance\n",
            "3    David  30.0         HR\n",
            "4      Eve  22.0         IT\n",
            "5    Frank  40.0    Finance\n"
          ]
        }
      ]
    },
    {
      "cell_type": "markdown",
      "source": [
        "Day 21: Pandas - Sorting Data\n",
        "Problem:\n",
        "Write a Python program that:\n",
        "\n",
        "Creates a DataFrame with the following data:\n",
        "\n",
        "pgsql\n",
        "Copy\n",
        "Name, Age, Department\n",
        "Alice, 30, HR\n",
        "Bob, 25, IT\n",
        "Charlie, 28, Finance\n",
        "David, 35, HR\n",
        "Eve, 22, IT\n",
        "Frank, 40, Finance\n",
        "Sorts the DataFrame by the Age column in ascending order.\n",
        "\n",
        "Sorts the DataFrame by the Age column in descending order.\n",
        "\n",
        "Prints both the sorted DataFrames.\n",
        "\n",
        "Hints:\n",
        "\n",
        "Use sort_values() to sort the DataFrame.\n",
        "\n",
        "You can specify the ascending parameter to control whether it sorts in ascending or descending order."
      ],
      "metadata": {
        "id": "MELDIk6jzGbt"
      }
    },
    {
      "cell_type": "code",
      "source": [
        "import pandas as pd\n",
        "\n",
        "details = [['Alice', 30, 'HR' ], ['Bob', 25, 'IT'], ['Charlie', 28,'Finance'], ['David', 35, 'HR'] , ['Eve', 22, 'IT'], ['Frank', 40, 'Finance'] ]\n",
        "columns = ['Name', 'Age', 'Department']\n",
        "\n",
        "df = pd.DataFrame(details, columns= columns)\n",
        "\n",
        "df_sorted = df.sort_values(by='Age')\n",
        "print(df_sorted)"
      ],
      "metadata": {
        "colab": {
          "base_uri": "https://localhost:8080/"
        },
        "id": "zId2pccLzLIh",
        "outputId": "befd5133-0418-4c15-9c0d-75d74c47bfe4"
      },
      "execution_count": 2,
      "outputs": [
        {
          "output_type": "stream",
          "name": "stdout",
          "text": [
            "      Name  Age Department\n",
            "4      Eve   22         IT\n",
            "1      Bob   25         IT\n",
            "2  Charlie   28    Finance\n",
            "0    Alice   30         HR\n",
            "3    David   35         HR\n",
            "5    Frank   40    Finance\n"
          ]
        }
      ]
    },
    {
      "cell_type": "markdown",
      "source": [
        "Day 22: Pandas - Working with Dates\n",
        "Problem:\n",
        "Write a Python program that:\n",
        "\n",
        "Creates a DataFrame with the following data (including some dates):\n",
        "\n",
        "\n",
        "Name, Age, Joining Date\n",
        "Alice, 30, 2020-01-15\n",
        "Bob, 25, 2019-03-22\n",
        "Charlie, 28, 2021-06-10\n",
        "David, 35, 2018-09-08\n",
        "Eve, 22, 2022-04-30\n",
        "Frank, 40, 2017-12-05\n",
        "Converts the Joining Date column to a datetime object.\n",
        "\n",
        "Filters the rows where the Joining Date is after January 1, 2020.\n",
        "\n",
        "Prints the filtered DataFrame.\n",
        "\n",
        "Hints:\n",
        "\n",
        "Use pd.to_datetime() to convert the Joining Date column to datetime.\n",
        "\n",
        "Use a condition to filter the rows based on the date."
      ],
      "metadata": {
        "id": "9mBnazbTfcC6"
      }
    },
    {
      "cell_type": "code",
      "source": [
        "import pandas as pd\n",
        "\n",
        "details = [['Alice', 30, 'HR', '2020-01-15' ], ['Bob', 25, 'IT','2019-03-22'], ['Charlie',28,'Finance','2021-06-10'], ['David', 35, 'HR','2018-09-08'] , ['Eve', 22, 'IT','2022-04-30'], ['Frank', 40, 'Finance','2017-12-05'] ]\n",
        "columns = ['Name', 'Age', 'Department','Joining_Date']\n",
        "\n",
        "df = pd.DataFrame(details, columns= columns)\n",
        "df['Joining_Date'] = pd.to_datetime(df['Joining_Date'])\n",
        "\n",
        "df_date = df[df['Joining_Date'] > '2020-01-01']\n",
        "\n",
        "print(df_date)"
      ],
      "metadata": {
        "colab": {
          "base_uri": "https://localhost:8080/"
        },
        "id": "4E15NHKh0HvU",
        "outputId": "2ec1640d-a33a-4ace-b86e-bfc6b0426df2"
      },
      "execution_count": 8,
      "outputs": [
        {
          "output_type": "stream",
          "name": "stdout",
          "text": [
            "      Name  Age Department Joining_Date\n",
            "0    Alice   30         HR   2020-01-15\n",
            "2  Charlie   28    Finance   2021-06-10\n",
            "4      Eve   22         IT   2022-04-30\n"
          ]
        }
      ]
    },
    {
      "cell_type": "markdown",
      "source": [
        "Day 23: Pandas - Working with CSV Files\n",
        "Problem:\n",
        "Write a Python program that:\n",
        "\n",
        "Creates a DataFrame with the following data:\n",
        "\n",
        "pgsql\n",
        "Copy\n",
        "Name, Age, Department\n",
        "Alice, 30, HR\n",
        "Bob, 25, IT\n",
        "Charlie, 28, Finance\n",
        "David, 35, HR\n",
        "Eve, 22, IT\n",
        "Frank, 40, Finance\n",
        "Saves this DataFrame to a CSV file called employees.csv.\n",
        "\n",
        "Reads the CSV file back into a new DataFrame.\n",
        "\n",
        "Prints the DataFrame read from the CSV file.\n",
        "\n",
        "Hints:\n",
        "\n",
        "Use df.to_csv('filename.csv') to save the DataFrame to a CSV file.\n",
        "\n",
        "Use pd.read_csv('filename.csv') to read the CSV file back into a DataFrame."
      ],
      "metadata": {
        "id": "7Uy7SI-wnGyi"
      }
    },
    {
      "cell_type": "code",
      "source": [
        "import pandas as pd\n",
        "\n",
        "details = [['Alice', 30, 'HR' ], ['Bob', 25, 'IT'], ['Charlie', 28,'Finance'], ['David', 35, 'HR'] , ['Eve', 22, 'IT'], ['Frank', 40, 'Finance'] ]\n",
        "columns = ['Name', 'Age', 'Department']\n",
        "\n",
        "df = pd.DataFrame(details, columns= columns)\n",
        "\n",
        "df.to_csv(\"Employees.csv\", index=False)\n",
        "\n",
        "df=pd.read_csv(\"Employees.csv\")\n",
        "\n",
        "print(df)"
      ],
      "metadata": {
        "colab": {
          "base_uri": "https://localhost:8080/"
        },
        "id": "F1a-U5QtgrO_",
        "outputId": "45050887-8002-4a7e-8ec3-e6887bdcf7dc"
      },
      "execution_count": 12,
      "outputs": [
        {
          "output_type": "stream",
          "name": "stdout",
          "text": [
            "      Name  Age Department\n",
            "0    Alice   30         HR\n",
            "1      Bob   25         IT\n",
            "2  Charlie   28    Finance\n",
            "3    David   35         HR\n",
            "4      Eve   22         IT\n",
            "5    Frank   40    Finance\n"
          ]
        }
      ]
    },
    {
      "cell_type": "markdown",
      "source": [
        "Day 24: Pandas - Merging DataFrames\n",
        "Problem:\n",
        "Write a Python program that:\n",
        "\n",
        "Creates two DataFrames:\n",
        "\n",
        "DataFrame 1 (employee details):\n",
        "\n",
        "pgsql\n",
        "Copy\n",
        "Name, Age, Department\n",
        "Alice, 30, HR\n",
        "Bob, 25, IT\n",
        "Charlie, 28, Finance\n",
        "\n",
        "\n",
        "DataFrame 2 (employee salaries):\n",
        "\n",
        "pgsql\n",
        "Copy\n",
        "Name, Salary\n",
        "Alice, 50000\n",
        "Bob, 60000\n",
        "Charlie, 55000\n",
        "Merges the two DataFrames on the Name column.\n",
        "\n",
        "Prints the merged DataFrame.\n",
        "\n",
        "Hints:\n",
        "\n",
        "Use pd.merge() to merge the two DataFrames.\n",
        "\n",
        "Specify the on parameter to merge them on the Name column."
      ],
      "metadata": {
        "id": "5oEMilBptZrG"
      }
    },
    {
      "cell_type": "code",
      "source": [
        "import pandas as pd\n",
        "employee_details = [['Alice', 30, 'HR' ], ['Bob', 25, 'IT'], ['Charlie', 28,'Finance'] ]\n",
        "employee_salaries = [['Alice', 50000],['Bob', 60000], ['Charlie', 55000]]\n",
        "\n",
        "columns_employee_details = ['Name', 'Age', 'Department']\n",
        "columns_employee_salaries = ['Name', 'Salary']\n",
        "\n",
        "df_employee_details = pd.DataFrame(employee_details, columns= columns_employee_details)\n",
        "df_employee_salaries = pd.DataFrame(employee_salaries, columns= columns_employee_salaries)\n",
        "\n",
        "df_merged = pd.merge(df_employee_details, df_employee_salaries, on='Name')\n",
        "\n",
        "print(df_merged)"
      ],
      "metadata": {
        "colab": {
          "base_uri": "https://localhost:8080/"
        },
        "id": "WUnpRiTSth1A",
        "outputId": "da343333-f575-4061-d755-7f5c0deb1d6b"
      },
      "execution_count": 2,
      "outputs": [
        {
          "output_type": "stream",
          "name": "stdout",
          "text": [
            "      Name  Age Department  Salary\n",
            "0    Alice   30         HR   50000\n",
            "1      Bob   25         IT   60000\n",
            "2  Charlie   28    Finance   55000\n"
          ]
        }
      ]
    },
    {
      "cell_type": "markdown",
      "source": [
        "Day 25: Pandas - Pivot Tables\n",
        "Problem:\n",
        "Write a Python program that:\n",
        "\n",
        "Creates a DataFrame with the following data:\n",
        "\n",
        "yaml\n",
        "Copy\n",
        "Name, Department, Sales\n",
        "Alice, HR, 5000\n",
        "Bob, IT, 7000\n",
        "Charlie, Finance, 8000\n",
        "David, HR, 5500\n",
        "Eve, IT, 6500\n",
        "Frank, Finance, 7500\n",
        "Creates a pivot table to calculate the total sales for each department.\n",
        "\n",
        "Prints the pivot table.\n",
        "\n",
        "Hints:\n",
        "\n",
        "Use pd.pivot_table() to create the pivot table.\n",
        "\n",
        "Set the values parameter to Sales, and index to Department to group by department."
      ],
      "metadata": {
        "id": "0CB3J6305dBx"
      }
    },
    {
      "cell_type": "code",
      "source": [
        "import pandas as pd\n",
        "\n",
        "details = [['Alice', 'HR', 5000 ], ['Bob', 'IT', 7000], ['Charlie', 'Finance', 8000], ['David', 'HR', 5500] , ['Eve', 'IT', 6500], ['Frank', 'Finance', 7500] ]\n",
        "columns = ['Name', 'Department', 'Sales']\n",
        "\n",
        "df = pd.DataFrame(details, columns= columns)\n",
        "\n",
        "pivot_table_result = pd.pivot_table(df, values='Sales', index='Department', aggfunc='sum')\n",
        "\n",
        "print(pivot_table_result)"
      ],
      "metadata": {
        "colab": {
          "base_uri": "https://localhost:8080/"
        },
        "id": "p1Z51SIr5ex8",
        "outputId": "f226f136-82cf-4433-9bbc-b15b83da88dc"
      },
      "execution_count": 5,
      "outputs": [
        {
          "output_type": "stream",
          "name": "stdout",
          "text": [
            "            Sales\n",
            "Department       \n",
            "Finance     15500\n",
            "HR          10500\n",
            "IT          13500\n"
          ]
        }
      ]
    },
    {
      "cell_type": "markdown",
      "source": [
        "Day 26: Pandas - Handling Categorical Data\n",
        "Problem:\n",
        "Write a Python program that:\n",
        "\n",
        "Creates a DataFrame with the following data:\n",
        "\n",
        "scss\n",
        "Copy\n",
        "Name, Department, Experience (Years)\n",
        "Alice, HR, 5\n",
        "Bob, IT, 2\n",
        "Charlie, Finance, 7\n",
        "David, HR, 3\n",
        "Eve, IT, 4\n",
        "Frank, Finance, 8\n",
        "Converts the Department column to a categorical data type.\n",
        "\n",
        "Prints the DataFrame and shows the dtype of the Department column.\n",
        "\n",
        "Hints:\n",
        "\n",
        "Use pd.Categorical() to convert a column to a categorical data type.\n",
        "\n",
        "Use the .dtype attribute to check the data type of the column."
      ],
      "metadata": {
        "id": "_sbER0VD_faI"
      }
    },
    {
      "cell_type": "code",
      "source": [
        "import pandas as pd\n",
        "\n",
        "details = [['Alice','HR', 5], ['Bob', 'IT', 2], ['Charlie', 'Finance', 7], ['David', 'HR', 3] , ['Eve', 'IT', 4], ['Frank', 'Finance', 8]]\n",
        "columns = ['Name', 'Department', 'Experience']\n",
        "\n",
        "df = pd.DataFrame(details, columns= columns)\n",
        "\n",
        "df['Department'] = pd.Categorical(df['Department'])\n",
        "\n",
        "print(df)\n",
        "\n",
        "print(df['Department'].dtype)"
      ],
      "metadata": {
        "colab": {
          "base_uri": "https://localhost:8080/"
        },
        "id": "YSeL_X6K_hRS",
        "outputId": "713c9734-b70a-4a88-b071-41968544507c"
      },
      "execution_count": 7,
      "outputs": [
        {
          "output_type": "stream",
          "name": "stdout",
          "text": [
            "      Name Department  Experience\n",
            "0    Alice         HR           5\n",
            "1      Bob         IT           2\n",
            "2  Charlie    Finance           7\n",
            "3    David         HR           3\n",
            "4      Eve         IT           4\n",
            "5    Frank    Finance           8\n",
            "category\n"
          ]
        }
      ]
    },
    {
      "cell_type": "markdown",
      "source": [
        "Day 27: Pandas - Apply Function\n",
        "Problem:\n",
        "Write a Python program that:\n",
        "\n",
        "Creates a DataFrame with the following data:\n",
        "\n",
        "pgsql\n",
        "Copy\n",
        "Name, Age, Salary\n",
        "Alice, 30, 50000\n",
        "Bob, 25, 60000\n",
        "Charlie, 28, 55000\n",
        "David, 35, 70000\n",
        "Eve, 22, 65000\n",
        "Frank, 40, 75000\n",
        "Creates a new column called Salary_Hike that contains the salary after a 10% hike. Use the apply() function to calculate the new salary for each employee.\n",
        "\n",
        "Prints the DataFrame with the new Salary_Hike column.\n",
        "\n",
        "Hints:\n",
        "\n",
        "Use the apply() function along with a lambda function to calculate the new salary.\n",
        "\n",
        "The new salary can be calculated by multiplying the current salary by 1.10."
      ],
      "metadata": {
        "id": "C4RYSSJTFwm1"
      }
    },
    {
      "cell_type": "code",
      "source": [
        "import pandas as pd\n",
        "\n",
        "details = [['Alice', 30, 50000], ['Bob', 25, 60000], ['Charlie', 28, 55000], ['David',35,70000], ['Eve', 22, 65000], ['Frank', 40, 75000] ]\n",
        "columns = ['Name', 'Age', 'Salary']\n",
        "\n",
        "df = pd.DataFrame(details, columns= columns)\n",
        "\n",
        "df['Salary_Hike'] = df['Salary'].apply(lambda x: x * 1.10)\n",
        "\n",
        "print(df)"
      ],
      "metadata": {
        "colab": {
          "base_uri": "https://localhost:8080/"
        },
        "id": "-CTC1StLBvA-",
        "outputId": "cdc46954-837a-44a2-df55-559147c4b3d1"
      },
      "execution_count": 8,
      "outputs": [
        {
          "output_type": "stream",
          "name": "stdout",
          "text": [
            "      Name  Age  Salary  Salary_Hike\n",
            "0    Alice   30   50000      55000.0\n",
            "1      Bob   25   60000      66000.0\n",
            "2  Charlie   28   55000      60500.0\n",
            "3    David   35   70000      77000.0\n",
            "4      Eve   22   65000      71500.0\n",
            "5    Frank   40   75000      82500.0\n"
          ]
        }
      ]
    },
    {
      "cell_type": "markdown",
      "source": [
        "Day 28: Pandas - String Manipulation\n",
        "Problem:\n",
        "Write a Python program that:\n",
        "\n",
        "Creates a DataFrame with the following data:\n",
        "\n",
        "pgsql\n",
        "Copy\n",
        "Name, Department, Salary\n",
        "Alice, HR, 50000\n",
        "Bob, IT, 60000\n",
        "Charlie, Finance, 55000\n",
        "David, HR, 70000\n",
        "Eve, IT, 65000\n",
        "Frank, Finance, 75000\n",
        "Adds a new column Department_Upper that contains the Department names in uppercase.\n",
        "\n",
        "Adds a new column Name_Lower that contains the Name in lowercase.\n",
        "\n",
        "Prints the DataFrame with the new columns.\n",
        "\n",
        "Hints:\n",
        "\n",
        "Use the .str.upper() method to convert the Department column to uppercase.\n",
        "\n",
        "Use the .str.lower() method to convert the Name column to lowercase."
      ],
      "metadata": {
        "id": "i9vykR2iVY1B"
      }
    },
    {
      "cell_type": "code",
      "source": [
        "import pandas as pd\n",
        "\n",
        "details = [['Alice', 'HR', 50000], ['Bob', 'IT', 60000], ['Charlie', 'Finance', 55000], ['David','HR',70000], ['Eve', 'IT', 65000], ['Frank', 'Finance', 75000] ]\n",
        "columns = ['Name', 'Department', 'Salary']\n",
        "\n",
        "df = pd.DataFrame(details, columns= columns)\n",
        "\n",
        "df['Department_Upper'] = df[\"Department\"].str.upper()\n",
        "df['Name_Lower'] = df['Name'].str.lower()\n",
        "\n",
        "print(df)"
      ],
      "metadata": {
        "colab": {
          "base_uri": "https://localhost:8080/"
        },
        "id": "v4aml7s_VdMw",
        "outputId": "37680627-65a7-424a-a3eb-d66051002e9c"
      },
      "execution_count": 1,
      "outputs": [
        {
          "output_type": "stream",
          "name": "stdout",
          "text": [
            "      Name Department  Salary Department_Upper Name_Lower\n",
            "0    Alice         HR   50000               HR      alice\n",
            "1      Bob         IT   60000               IT        bob\n",
            "2  Charlie    Finance   55000          FINANCE    charlie\n",
            "3    David         HR   70000               HR      david\n",
            "4      Eve         IT   65000               IT        eve\n",
            "5    Frank    Finance   75000          FINANCE      frank\n"
          ]
        }
      ]
    },
    {
      "cell_type": "markdown",
      "source": [
        "Day 29: Pandas - Filtering with Multiple Conditions\n",
        "Problem:\n",
        "Write a Python program that:\n",
        "\n",
        "Creates a DataFrame with the following data:\n",
        "\n",
        "pgsql\n",
        "Copy\n",
        "Edit\n",
        "Name, Department, Salary\n",
        "Alice, HR, 50000\n",
        "Bob, IT, 60000\n",
        "Charlie, Finance, 55000\n",
        "David, HR, 70000\n",
        "Eve, IT, 65000\n",
        "Frank, Finance, 75000\n",
        "Filters the DataFrame to show only:\n",
        "\n",
        "Employees from the IT department\n",
        "\n",
        "Whose salary is greater than 60000\n",
        "\n",
        "Prints the filtered DataFrame.\n",
        "\n",
        "Hints:\n",
        "\n",
        "Use & to combine multiple conditions inside the filter.\n",
        "\n",
        "Remember to wrap each condition in parentheses.\n",
        "\n"
      ],
      "metadata": {
        "id": "NuLbhFf3awOZ"
      }
    },
    {
      "cell_type": "code",
      "source": [
        "import pandas as pd\n",
        "\n",
        "details = [['Alice', 'HR', 50000], ['Bob', 'IT', 60000], ['Charlie', 'Finance', 55000], ['David','HR',70000], ['Eve', 'IT', 65000], ['Frank', 'Finance', 75000] ]\n",
        "columns = ['Name', 'Department', 'Salary']\n",
        "\n",
        "df = pd.DataFrame(details, columns= columns)\n",
        "\n",
        "df_filtered = df[(df['Department'] == 'IT') & (df['Salary'] > 60000)]\n",
        "\n",
        "print(df_filtered)"
      ],
      "metadata": {
        "colab": {
          "base_uri": "https://localhost:8080/"
        },
        "id": "zNY47U7PZjRo",
        "outputId": "1713964f-d5a1-4c5d-90f1-be06881f0659"
      },
      "execution_count": 5,
      "outputs": [
        {
          "output_type": "stream",
          "name": "stdout",
          "text": [
            "  Name Department  Salary\n",
            "4  Eve         IT   65000\n"
          ]
        }
      ]
    },
    {
      "cell_type": "code",
      "source": [],
      "metadata": {
        "id": "hxVp2y2EbTB4"
      },
      "execution_count": null,
      "outputs": []
    }
  ]
}