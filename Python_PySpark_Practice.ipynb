{
  "nbformat": 4,
  "nbformat_minor": 0,
  "metadata": {
    "colab": {
      "provenance": [],
      "authorship_tag": "ABX9TyNgIjIkM2m8C066fX/hnYBO",
      "include_colab_link": true
    },
    "kernelspec": {
      "name": "python3",
      "display_name": "Python 3"
    },
    "language_info": {
      "name": "python"
    }
  },
  "cells": [
    {
      "cell_type": "markdown",
      "metadata": {
        "id": "view-in-github",
        "colab_type": "text"
      },
      "source": [
        "<a href=\"https://colab.research.google.com/github/ajinkyagh/Python_Practice/blob/main/Python_PySpark_Practice.ipynb\" target=\"_parent\"><img src=\"https://colab.research.google.com/assets/colab-badge.svg\" alt=\"Open In Colab\"/></a>"
      ]
    },
    {
      "cell_type": "code",
      "execution_count": 19,
      "metadata": {
        "colab": {
          "base_uri": "https://localhost:8080/"
        },
        "id": "OtUzEfvW4JLA",
        "outputId": "3063a0b9-0be0-41e8-f8d2-0bfe3a89b552"
      },
      "outputs": [
        {
          "output_type": "stream",
          "name": "stdout",
          "text": [
            "+-------+----+\n",
            "|   Name| Age|\n",
            "+-------+----+\n",
            "|  Alice|  25|\n",
            "|    Bob|  30|\n",
            "|Charlie|NULL|\n",
            "+-------+----+\n",
            "\n"
          ]
        }
      ],
      "source": [
        "#EDA & Data Manipulation\n",
        "#Creating a dataframe from List\n",
        "from pyspark.sql import SparkSession\n",
        "spark = SparkSession.builder.appName(\"EDA Methods\").getOrCreate()\n",
        "\n",
        "data = [(\"Alice\",25),(\"Bob\",30), (\"Charlie\", None )]\n",
        "df = spark.createDataFrame(data, [\"Name\", \"Age\"])\n",
        "df.show()"
      ]
    },
    {
      "cell_type": "code",
      "source": [
        "#read CSV file\n",
        "from google.colab import drive\n",
        "drive.mount('/content/gdrive')\n",
        "\n",
        "df_customers = spark.read.csv('/content/gdrive/My Drive/Colab Notebooks/dataset/customers.csv', header=True, inferSchema=True)\n",
        "df_customers.show()\n"
      ],
      "metadata": {
        "colab": {
          "base_uri": "https://localhost:8080/"
        },
        "id": "hRQop-sL5jgI",
        "outputId": "ba2fea5c-23e2-4bb4-ca27-c631f48fe09a"
      },
      "execution_count": 20,
      "outputs": [
        {
          "output_type": "stream",
          "name": "stdout",
          "text": [
            "Drive already mounted at /content/gdrive; to attempt to forcibly remount, call drive.mount(\"/content/gdrive\", force_remount=True).\n",
            "+-----------+-------+-----------+------------------+\n",
            "|customer_id|   name|signup_date|             email|\n",
            "+-----------+-------+-----------+------------------+\n",
            "|          1|  Alice| 2021-01-01| user1@example.com|\n",
            "|          2|    Bob| 2021-04-01| user2@example.com|\n",
            "|          3|Charlie| 2021-06-30| user3@example.com|\n",
            "|          4|  David| 2021-09-28|              NULL|\n",
            "|          5|    Eva| 2021-12-27| user5@example.com|\n",
            "|          6|  Frank| 2022-03-27| user6@example.com|\n",
            "|          7|  Grace| 2022-06-25| user7@example.com|\n",
            "|          8|  Helen| 2022-09-23| user8@example.com|\n",
            "|          9|    Ian| 2022-12-22| user9@example.com|\n",
            "|         10|   Jane| 2023-03-22|user10@example.com|\n",
            "+-----------+-------+-----------+------------------+\n",
            "\n"
          ]
        }
      ]
    },
    {
      "cell_type": "code",
      "source": [
        "#Read a parquet File into the a data frame\n",
        "# df_orders = spark.read.parquet('/content/gdrive/My Drive/Colab Notebooks/dataset/orders.csv')\n",
        "\n",
        "#Read a json File into the a data frame\n",
        "#df = spark.read.json(\"path\")"
      ],
      "metadata": {
        "id": "1dc0lpkx6WpJ"
      },
      "execution_count": 21,
      "outputs": []
    },
    {
      "cell_type": "code",
      "source": [
        "df.show(5)"
      ],
      "metadata": {
        "colab": {
          "base_uri": "https://localhost:8080/"
        },
        "id": "ZNkIJJya72MY",
        "outputId": "df986489-0330-4c5b-80c6-60353a7529ae"
      },
      "execution_count": 22,
      "outputs": [
        {
          "output_type": "stream",
          "name": "stdout",
          "text": [
            "+-------+----+\n",
            "|   Name| Age|\n",
            "+-------+----+\n",
            "|  Alice|  25|\n",
            "|    Bob|  30|\n",
            "|Charlie|NULL|\n",
            "+-------+----+\n",
            "\n"
          ]
        }
      ]
    },
    {
      "cell_type": "code",
      "source": [
        "df.columns"
      ],
      "metadata": {
        "colab": {
          "base_uri": "https://localhost:8080/"
        },
        "id": "hF92r_o18tKx",
        "outputId": "ee819496-03c7-4475-a548-c2c980e810a2"
      },
      "execution_count": 23,
      "outputs": [
        {
          "output_type": "execute_result",
          "data": {
            "text/plain": [
              "['Name', 'Age']"
            ]
          },
          "metadata": {},
          "execution_count": 23
        }
      ]
    },
    {
      "cell_type": "code",
      "source": [
        "df.count()"
      ],
      "metadata": {
        "colab": {
          "base_uri": "https://localhost:8080/"
        },
        "id": "-nQwefiG82qU",
        "outputId": "1975bb60-463c-47ed-ded9-deb500e0545f"
      },
      "execution_count": 24,
      "outputs": [
        {
          "output_type": "execute_result",
          "data": {
            "text/plain": [
              "3"
            ]
          },
          "metadata": {},
          "execution_count": 24
        }
      ]
    },
    {
      "cell_type": "code",
      "source": [
        "#Displays the schema\n",
        "df.printSchema()"
      ],
      "metadata": {
        "colab": {
          "base_uri": "https://localhost:8080/"
        },
        "id": "jyO6R40885Ny",
        "outputId": "6dafe2ee-8591-4698-deb6-44d2f4570ac4"
      },
      "execution_count": 25,
      "outputs": [
        {
          "output_type": "stream",
          "name": "stdout",
          "text": [
            "root\n",
            " |-- Name: string (nullable = true)\n",
            " |-- Age: long (nullable = true)\n",
            "\n"
          ]
        }
      ]
    },
    {
      "cell_type": "code",
      "source": [
        "#Computes summary statistics for numerical columns.\n",
        "df.describe().show()"
      ],
      "metadata": {
        "colab": {
          "base_uri": "https://localhost:8080/"
        },
        "id": "rkgc90wg8_DW",
        "outputId": "16884adc-5b9c-4010-b4df-91129d3e1e32"
      },
      "execution_count": 26,
      "outputs": [
        {
          "output_type": "stream",
          "name": "stdout",
          "text": [
            "+-------+-------+------------------+\n",
            "|summary|   Name|               Age|\n",
            "+-------+-------+------------------+\n",
            "|  count|      3|                 2|\n",
            "|   mean|   NULL|              27.5|\n",
            "| stddev|   NULL|3.5355339059327378|\n",
            "|    min|  Alice|                25|\n",
            "|    max|Charlie|                30|\n",
            "+-------+-------+------------------+\n",
            "\n"
          ]
        }
      ]
    },
    {
      "cell_type": "code",
      "source": [
        "#Commutes column wise missing values.\n",
        "from pyspark.sql.functions import col,sum\n",
        "df.select(*(sum(col(c).isNull().cast(\"int\")).alias(c) for c in df.columns)).show()"
      ],
      "metadata": {
        "colab": {
          "base_uri": "https://localhost:8080/"
        },
        "id": "peh_mL7-9QoQ",
        "outputId": "c2ff617b-9d8c-4bb9-d1a2-a35c929a0574"
      },
      "execution_count": 28,
      "outputs": [
        {
          "output_type": "stream",
          "name": "stdout",
          "text": [
            "+----+---+\n",
            "|Name|Age|\n",
            "+----+---+\n",
            "|   0|  1|\n",
            "+----+---+\n",
            "\n"
          ]
        }
      ]
    },
    {
      "cell_type": "code",
      "source": [],
      "metadata": {
        "id": "mu1BD8B--HOT"
      },
      "execution_count": null,
      "outputs": []
    }
  ]
}