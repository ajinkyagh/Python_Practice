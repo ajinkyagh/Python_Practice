{
  "nbformat": 4,
  "nbformat_minor": 0,
  "metadata": {
    "colab": {
      "provenance": [],
      "authorship_tag": "ABX9TyMsI7tgvR1qmPDDHREvtUt9",
      "include_colab_link": true
    },
    "kernelspec": {
      "name": "python3",
      "display_name": "Python 3"
    },
    "language_info": {
      "name": "python"
    }
  },
  "cells": [
    {
      "cell_type": "markdown",
      "metadata": {
        "id": "view-in-github",
        "colab_type": "text"
      },
      "source": [
        "<a href=\"https://colab.research.google.com/github/ajinkyagh/Python_Practice/blob/main/Python_PySpark_Practice.ipynb\" target=\"_parent\"><img src=\"https://colab.research.google.com/assets/colab-badge.svg\" alt=\"Open In Colab\"/></a>"
      ]
    },
    {
      "cell_type": "code",
      "execution_count": 44,
      "metadata": {
        "colab": {
          "base_uri": "https://localhost:8080/"
        },
        "id": "OtUzEfvW4JLA",
        "outputId": "b9a1a90a-6129-4642-e7e6-db4a5d63ffe3"
      },
      "outputs": [
        {
          "output_type": "stream",
          "name": "stdout",
          "text": [
            "+-------+----+\n",
            "|   Name| Age|\n",
            "+-------+----+\n",
            "|  Alice|  25|\n",
            "|    Bob|  30|\n",
            "|Charlie|NULL|\n",
            "|   John|  30|\n",
            "+-------+----+\n",
            "\n"
          ]
        }
      ],
      "source": [
        "#EDA & Data Manipulation\n",
        "#Creating a dataframe from List\n",
        "from pyspark.sql import SparkSession\n",
        "spark = SparkSession.builder.appName(\"EDA Methods\").getOrCreate()\n",
        "\n",
        "data = [(\"Alice\",25),(\"Bob\",30), (\"Charlie\", None ), (\"John\",30)]\n",
        "df = spark.createDataFrame(data, [\"Name\", \"Age\"])\n",
        "df.show()"
      ]
    },
    {
      "cell_type": "code",
      "source": [
        "#read CSV file\n",
        "from google.colab import drive\n",
        "drive.mount('/content/gdrive')\n",
        "\n",
        "df_customers = spark.read.csv('/content/gdrive/My Drive/Colab Notebooks/dataset/customers.csv', header=True, inferSchema=True)\n",
        "df_customers.show()\n"
      ],
      "metadata": {
        "colab": {
          "base_uri": "https://localhost:8080/"
        },
        "id": "hRQop-sL5jgI",
        "outputId": "5e275a34-82ab-4ab1-a428-d6523b0b0667"
      },
      "execution_count": 45,
      "outputs": [
        {
          "output_type": "stream",
          "name": "stdout",
          "text": [
            "Drive already mounted at /content/gdrive; to attempt to forcibly remount, call drive.mount(\"/content/gdrive\", force_remount=True).\n",
            "+-----------+-------+-----------+------------------+\n",
            "|customer_id|   name|signup_date|             email|\n",
            "+-----------+-------+-----------+------------------+\n",
            "|          1|  Alice| 2021-01-01| user1@example.com|\n",
            "|          2|    Bob| 2021-04-01| user2@example.com|\n",
            "|          3|Charlie| 2021-06-30| user3@example.com|\n",
            "|          4|  David| 2021-09-28|              NULL|\n",
            "|          5|    Eva| 2021-12-27| user5@example.com|\n",
            "|          6|  Frank| 2022-03-27| user6@example.com|\n",
            "|          7|  Grace| 2022-06-25| user7@example.com|\n",
            "|          8|  Helen| 2022-09-23| user8@example.com|\n",
            "|          9|    Ian| 2022-12-22| user9@example.com|\n",
            "|         10|   Jane| 2023-03-22|user10@example.com|\n",
            "+-----------+-------+-----------+------------------+\n",
            "\n"
          ]
        }
      ]
    },
    {
      "cell_type": "code",
      "source": [
        "#Read a parquet File into the a data frame\n",
        "# df_orders = spark.read.parquet('/content/gdrive/My Drive/Colab Notebooks/dataset/orders.csv')\n",
        "\n",
        "#Read a json File into the a data frame\n",
        "#df = spark.read.json(\"path\")"
      ],
      "metadata": {
        "id": "1dc0lpkx6WpJ"
      },
      "execution_count": 46,
      "outputs": []
    },
    {
      "cell_type": "code",
      "source": [
        "#Basic EDA Methods\n",
        "df.show(5)"
      ],
      "metadata": {
        "colab": {
          "base_uri": "https://localhost:8080/"
        },
        "id": "ZNkIJJya72MY",
        "outputId": "4d5b6f58-e3e1-46f5-e509-7ee2304702c7"
      },
      "execution_count": 47,
      "outputs": [
        {
          "output_type": "stream",
          "name": "stdout",
          "text": [
            "+-------+----+\n",
            "|   Name| Age|\n",
            "+-------+----+\n",
            "|  Alice|  25|\n",
            "|    Bob|  30|\n",
            "|Charlie|NULL|\n",
            "|   John|  30|\n",
            "+-------+----+\n",
            "\n"
          ]
        }
      ]
    },
    {
      "cell_type": "code",
      "source": [
        "df.columns"
      ],
      "metadata": {
        "colab": {
          "base_uri": "https://localhost:8080/"
        },
        "id": "hF92r_o18tKx",
        "outputId": "cf41588b-7a47-4bd2-a2ed-fcd7a4dd8b41"
      },
      "execution_count": 48,
      "outputs": [
        {
          "output_type": "execute_result",
          "data": {
            "text/plain": [
              "['Name', 'Age']"
            ]
          },
          "metadata": {},
          "execution_count": 48
        }
      ]
    },
    {
      "cell_type": "code",
      "source": [
        "df.count()"
      ],
      "metadata": {
        "colab": {
          "base_uri": "https://localhost:8080/"
        },
        "id": "-nQwefiG82qU",
        "outputId": "0314c5b1-36c4-453b-e77c-79460da8d629"
      },
      "execution_count": 49,
      "outputs": [
        {
          "output_type": "execute_result",
          "data": {
            "text/plain": [
              "4"
            ]
          },
          "metadata": {},
          "execution_count": 49
        }
      ]
    },
    {
      "cell_type": "code",
      "source": [
        "#Displays the schema\n",
        "df.printSchema()"
      ],
      "metadata": {
        "colab": {
          "base_uri": "https://localhost:8080/"
        },
        "id": "jyO6R40885Ny",
        "outputId": "75637642-7d2a-42bc-d775-4d559533f331"
      },
      "execution_count": 50,
      "outputs": [
        {
          "output_type": "stream",
          "name": "stdout",
          "text": [
            "root\n",
            " |-- Name: string (nullable = true)\n",
            " |-- Age: long (nullable = true)\n",
            "\n"
          ]
        }
      ]
    },
    {
      "cell_type": "code",
      "source": [
        "#Computes summary statistics for numerical columns.\n",
        "df.describe().show()"
      ],
      "metadata": {
        "colab": {
          "base_uri": "https://localhost:8080/"
        },
        "id": "rkgc90wg8_DW",
        "outputId": "6a9fea7b-cb2e-4d2b-b612-ed692f0427d7"
      },
      "execution_count": 51,
      "outputs": [
        {
          "output_type": "stream",
          "name": "stdout",
          "text": [
            "+-------+-----+------------------+\n",
            "|summary| Name|               Age|\n",
            "+-------+-----+------------------+\n",
            "|  count|    4|                 3|\n",
            "|   mean| NULL|28.333333333333332|\n",
            "| stddev| NULL| 2.886751345948129|\n",
            "|    min|Alice|                25|\n",
            "|    max| John|                30|\n",
            "+-------+-----+------------------+\n",
            "\n"
          ]
        }
      ]
    },
    {
      "cell_type": "code",
      "source": [
        "#Commutes column wise missing values.\n",
        "from pyspark.sql.functions import col,sum\n",
        "df.select(*(sum(col(c).isNull().cast(\"int\")).alias(c) for c in df.columns)).show()"
      ],
      "metadata": {
        "colab": {
          "base_uri": "https://localhost:8080/"
        },
        "id": "peh_mL7-9QoQ",
        "outputId": "c2903718-ebaf-4ce7-c7b1-f63a39ef9990"
      },
      "execution_count": 52,
      "outputs": [
        {
          "output_type": "stream",
          "name": "stdout",
          "text": [
            "+----+---+\n",
            "|Name|Age|\n",
            "+----+---+\n",
            "|   0|  1|\n",
            "+----+---+\n",
            "\n"
          ]
        }
      ]
    },
    {
      "cell_type": "code",
      "source": [
        "#Filtering and Selecting Data\n",
        "df.show(5)\n",
        "\n",
        "#Filter rows where Age is greater than 25\n",
        "df.filter(df.Age > 25).show()"
      ],
      "metadata": {
        "colab": {
          "base_uri": "https://localhost:8080/"
        },
        "id": "mu1BD8B--HOT",
        "outputId": "c7799eea-0d98-450f-aaed-7b4ba2cb3e28"
      },
      "execution_count": 53,
      "outputs": [
        {
          "output_type": "stream",
          "name": "stdout",
          "text": [
            "+-------+----+\n",
            "|   Name| Age|\n",
            "+-------+----+\n",
            "|  Alice|  25|\n",
            "|    Bob|  30|\n",
            "|Charlie|NULL|\n",
            "|   John|  30|\n",
            "+-------+----+\n",
            "\n",
            "+----+---+\n",
            "|Name|Age|\n",
            "+----+---+\n",
            "| Bob| 30|\n",
            "|John| 30|\n",
            "+----+---+\n",
            "\n"
          ]
        }
      ]
    },
    {
      "cell_type": "code",
      "source": [
        "#Filter using multiple conditions\n",
        "df.filter((df.Age>=25) & (df.Name.startswith(\"A\"))).show()\n",
        "\n",
        "df.filter((df.Age>=25) & (df.Name==\"Bob\")).show()"
      ],
      "metadata": {
        "colab": {
          "base_uri": "https://localhost:8080/"
        },
        "id": "ukNP54bICXYX",
        "outputId": "e2edc4db-dfa0-4024-be91-21a14e77c8e7"
      },
      "execution_count": 54,
      "outputs": [
        {
          "output_type": "stream",
          "name": "stdout",
          "text": [
            "+-----+---+\n",
            "| Name|Age|\n",
            "+-----+---+\n",
            "|Alice| 25|\n",
            "+-----+---+\n",
            "\n",
            "+----+---+\n",
            "|Name|Age|\n",
            "+----+---+\n",
            "| Bob| 30|\n",
            "+----+---+\n",
            "\n"
          ]
        }
      ]
    },
    {
      "cell_type": "code",
      "source": [
        "#Select Specific Columns\n",
        "df.select(\"Name\").show()"
      ],
      "metadata": {
        "colab": {
          "base_uri": "https://localhost:8080/"
        },
        "id": "Jgf4Zli0C91u",
        "outputId": "766535bf-b684-4540-a57c-4de4fdfae99d"
      },
      "execution_count": 55,
      "outputs": [
        {
          "output_type": "stream",
          "name": "stdout",
          "text": [
            "+-------+\n",
            "|   Name|\n",
            "+-------+\n",
            "|  Alice|\n",
            "|    Bob|\n",
            "|Charlie|\n",
            "|   John|\n",
            "+-------+\n",
            "\n"
          ]
        }
      ]
    },
    {
      "cell_type": "code",
      "source": [
        "#Add a new column\n",
        "from pyspark.sql.functions import lit\n",
        "df = df.withColumn(\"Country\", lit(\"USA\"))\n",
        "df.show()"
      ],
      "metadata": {
        "colab": {
          "base_uri": "https://localhost:8080/"
        },
        "id": "PDjBEgGJDYW8",
        "outputId": "d1320d92-b3f7-4df3-f202-1e73f4d1cf8a"
      },
      "execution_count": 56,
      "outputs": [
        {
          "output_type": "stream",
          "name": "stdout",
          "text": [
            "+-------+----+-------+\n",
            "|   Name| Age|Country|\n",
            "+-------+----+-------+\n",
            "|  Alice|  25|    USA|\n",
            "|    Bob|  30|    USA|\n",
            "|Charlie|NULL|    USA|\n",
            "|   John|  30|    USA|\n",
            "+-------+----+-------+\n",
            "\n"
          ]
        }
      ]
    },
    {
      "cell_type": "code",
      "source": [
        "#rename a column\n",
        "df = df.withColumnRenamed(\"Country\", \"Nationality\")\n",
        "df.show()"
      ],
      "metadata": {
        "colab": {
          "base_uri": "https://localhost:8080/"
        },
        "id": "AIkamiZ5Dri2",
        "outputId": "83f840d9-c1da-4bbc-e713-7b5e76ec63d4"
      },
      "execution_count": 57,
      "outputs": [
        {
          "output_type": "stream",
          "name": "stdout",
          "text": [
            "+-------+----+-----------+\n",
            "|   Name| Age|Nationality|\n",
            "+-------+----+-----------+\n",
            "|  Alice|  25|        USA|\n",
            "|    Bob|  30|        USA|\n",
            "|Charlie|NULL|        USA|\n",
            "|   John|  30|        USA|\n",
            "+-------+----+-----------+\n",
            "\n"
          ]
        }
      ]
    },
    {
      "cell_type": "code",
      "source": [
        "#Drop a column\n",
        "#df = df.drop(\"Nationality\")\n",
        "#df.show()"
      ],
      "metadata": {
        "id": "HPEeIAcyD7fX"
      },
      "execution_count": 58,
      "outputs": []
    },
    {
      "cell_type": "code",
      "source": [
        "#Aggregations and Grouping\n",
        "#Counts the number of occurrences per category\n",
        "df.groupBy(\"Age\").count().show()"
      ],
      "metadata": {
        "colab": {
          "base_uri": "https://localhost:8080/"
        },
        "id": "XQ_Q9ZsZEDrK",
        "outputId": "2f629188-422c-4b5b-cdf7-41065ebdada9"
      },
      "execution_count": 59,
      "outputs": [
        {
          "output_type": "stream",
          "name": "stdout",
          "text": [
            "+----+-----+\n",
            "| Age|count|\n",
            "+----+-----+\n",
            "|  25|    1|\n",
            "|  30|    2|\n",
            "|NULL|    1|\n",
            "+----+-----+\n",
            "\n"
          ]
        }
      ]
    },
    {
      "cell_type": "code",
      "source": [
        "#Finds the average age per country\n",
        "df.groupBy(\"Nationality\").agg({\"Age\": \"avg\"}).show()"
      ],
      "metadata": {
        "colab": {
          "base_uri": "https://localhost:8080/"
        },
        "id": "TrD52vfoFy30",
        "outputId": "51c0397b-b00f-4e49-b205-5d97f5d52985"
      },
      "execution_count": 60,
      "outputs": [
        {
          "output_type": "stream",
          "name": "stdout",
          "text": [
            "+-----------+------------------+\n",
            "|Nationality|          avg(Age)|\n",
            "+-----------+------------------+\n",
            "|        USA|28.333333333333332|\n",
            "+-----------+------------------+\n",
            "\n"
          ]
        }
      ]
    },
    {
      "cell_type": "code",
      "source": [
        "#Computes multiple aggregations\n",
        "from pyspark.sql.functions import min, max, avg\n",
        "df.groupBy(\"Nationality\").agg(avg(\"Age\"), min(\"Age\"), max(\"Age\")).show()"
      ],
      "metadata": {
        "colab": {
          "base_uri": "https://localhost:8080/"
        },
        "id": "pFlPpyI1GkcV",
        "outputId": "994e1380-4215-4cdc-d324-1a0c832df4cc"
      },
      "execution_count": 61,
      "outputs": [
        {
          "output_type": "stream",
          "name": "stdout",
          "text": [
            "+-----------+------------------+--------+--------+\n",
            "|Nationality|          avg(Age)|min(Age)|max(Age)|\n",
            "+-----------+------------------+--------+--------+\n",
            "|        USA|28.333333333333332|      25|      30|\n",
            "+-----------+------------------+--------+--------+\n",
            "\n"
          ]
        }
      ]
    },
    {
      "cell_type": "code",
      "source": [
        "#Sorting and Ranking\n",
        "#Sorts DatFrame in ascending order.\n",
        "df.show()\n",
        "\n",
        "df.orderBy(df.Age.asc()).show()"
      ],
      "metadata": {
        "id": "0CkFCesoHIxR",
        "colab": {
          "base_uri": "https://localhost:8080/"
        },
        "outputId": "015c3410-8091-4b7a-9e99-de5ec27b935b"
      },
      "execution_count": 62,
      "outputs": [
        {
          "output_type": "stream",
          "name": "stdout",
          "text": [
            "+-------+----+-----------+\n",
            "|   Name| Age|Nationality|\n",
            "+-------+----+-----------+\n",
            "|  Alice|  25|        USA|\n",
            "|    Bob|  30|        USA|\n",
            "|Charlie|NULL|        USA|\n",
            "|   John|  30|        USA|\n",
            "+-------+----+-----------+\n",
            "\n",
            "+-------+----+-----------+\n",
            "|   Name| Age|Nationality|\n",
            "+-------+----+-----------+\n",
            "|Charlie|NULL|        USA|\n",
            "|  Alice|  25|        USA|\n",
            "|   John|  30|        USA|\n",
            "|    Bob|  30|        USA|\n",
            "+-------+----+-----------+\n",
            "\n"
          ]
        }
      ]
    },
    {
      "cell_type": "code",
      "source": [
        "#Sorts DatFrame in desc order.\n",
        "df.orderBy(df.Age.desc()).show()"
      ],
      "metadata": {
        "colab": {
          "base_uri": "https://localhost:8080/"
        },
        "id": "9UdEPrXCRc1k",
        "outputId": "6334a6f2-1f11-456e-cf47-44d17b974975"
      },
      "execution_count": 63,
      "outputs": [
        {
          "output_type": "stream",
          "name": "stdout",
          "text": [
            "+-------+----+-----------+\n",
            "|   Name| Age|Nationality|\n",
            "+-------+----+-----------+\n",
            "|   John|  30|        USA|\n",
            "|    Bob|  30|        USA|\n",
            "|  Alice|  25|        USA|\n",
            "|Charlie|NULL|        USA|\n",
            "+-------+----+-----------+\n",
            "\n"
          ]
        }
      ]
    },
    {
      "cell_type": "code",
      "source": [
        "#ADDS a row number column(ranking)\n",
        "from pyspark.sql.window import Window\n",
        "from pyspark.sql.functions import row_number\n",
        "\n",
        "windowSpec = Window.orderBy(\"Age\")\n",
        "df.withColumn(\"row_number\", row_number().over(windowSpec)).show()"
      ],
      "metadata": {
        "colab": {
          "base_uri": "https://localhost:8080/"
        },
        "id": "Ito--fluR05R",
        "outputId": "7b834b2b-1d21-442c-fb82-7d67b8fdc664"
      },
      "execution_count": 64,
      "outputs": [
        {
          "output_type": "stream",
          "name": "stdout",
          "text": [
            "+-------+----+-----------+----------+\n",
            "|   Name| Age|Nationality|row_number|\n",
            "+-------+----+-----------+----------+\n",
            "|Charlie|NULL|        USA|         1|\n",
            "|  Alice|  25|        USA|         2|\n",
            "|    Bob|  30|        USA|         3|\n",
            "|   John|  30|        USA|         4|\n",
            "+-------+----+-----------+----------+\n",
            "\n"
          ]
        }
      ]
    },
    {
      "cell_type": "code",
      "source": [
        "#Handling Missing Data\n",
        "#Drops rows with any null values\n",
        "df.na.drop().show()"
      ],
      "metadata": {
        "colab": {
          "base_uri": "https://localhost:8080/"
        },
        "id": "8bbgOldeSRev",
        "outputId": "3687b3de-b4aa-4cfe-a095-37ecd877f1f6"
      },
      "execution_count": 65,
      "outputs": [
        {
          "output_type": "stream",
          "name": "stdout",
          "text": [
            "+-----+---+-----------+\n",
            "| Name|Age|Nationality|\n",
            "+-----+---+-----------+\n",
            "|Alice| 25|        USA|\n",
            "|  Bob| 30|        USA|\n",
            "| John| 30|        USA|\n",
            "+-----+---+-----------+\n",
            "\n"
          ]
        }
      ]
    },
    {
      "cell_type": "code",
      "source": [
        "#Fills null values with a default value.\n",
        "df.na.fill({\"Age\": 30}).show()"
      ],
      "metadata": {
        "colab": {
          "base_uri": "https://localhost:8080/"
        },
        "id": "aKFpD8HPS49v",
        "outputId": "5e818b13-edd4-46c5-df0e-6bab4a7477cb"
      },
      "execution_count": 66,
      "outputs": [
        {
          "output_type": "stream",
          "name": "stdout",
          "text": [
            "+-------+---+-----------+\n",
            "|   Name|Age|Nationality|\n",
            "+-------+---+-----------+\n",
            "|  Alice| 25|        USA|\n",
            "|    Bob| 30|        USA|\n",
            "|Charlie| 30|        USA|\n",
            "|   John| 30|        USA|\n",
            "+-------+---+-----------+\n",
            "\n"
          ]
        }
      ]
    },
    {
      "cell_type": "code",
      "source": [
        "#Replaces specific values.\n",
        "df = df.replace(\"USA\", \"United States\")"
      ],
      "metadata": {
        "id": "_kxcvfA1TMtN"
      },
      "execution_count": 67,
      "outputs": []
    },
    {
      "cell_type": "code",
      "source": [
        "df.show()"
      ],
      "metadata": {
        "colab": {
          "base_uri": "https://localhost:8080/"
        },
        "id": "XhWwXJzfU_CB",
        "outputId": "c1604845-df50-4e66-b0ae-ead17c71728c"
      },
      "execution_count": 68,
      "outputs": [
        {
          "output_type": "stream",
          "name": "stdout",
          "text": [
            "+-------+----+-------------+\n",
            "|   Name| Age|  Nationality|\n",
            "+-------+----+-------------+\n",
            "|  Alice|  25|United States|\n",
            "|    Bob|  30|United States|\n",
            "|Charlie|NULL|United States|\n",
            "|   John|  30|United States|\n",
            "+-------+----+-------------+\n",
            "\n"
          ]
        }
      ]
    },
    {
      "cell_type": "markdown",
      "source": [
        "Feature Engineering"
      ],
      "metadata": {
        "id": "l6vF4ItZVk3c"
      }
    },
    {
      "cell_type": "code",
      "source": [],
      "metadata": {
        "id": "3jIGDUdHVFLf"
      },
      "execution_count": 68,
      "outputs": []
    }
  ]
}